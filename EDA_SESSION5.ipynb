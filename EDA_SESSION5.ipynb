{
 "cells": [
  {
   "cell_type": "code",
   "execution_count": 1,
   "id": "71ffc652",
   "metadata": {},
   "outputs": [],
   "source": [
    "import pandas as pd\n",
    "import numpy as np\n",
    "import matplotlib.pyplot as plt\n",
    "import seaborn as sns"
   ]
  },
  {
   "cell_type": "code",
   "execution_count": 5,
   "id": "5f4f8355",
   "metadata": {},
   "outputs": [],
   "source": [
    "df=pd.read_csv(r\"C:\\Users\\hp\\OneDrive\\Documents\\FSDS 7\\EDA_PYTHON\\Visadataset.csv\")"
   ]
  },
  {
   "cell_type": "code",
   "execution_count": 6,
   "id": "7a378e10",
   "metadata": {},
   "outputs": [
    {
     "data": {
      "text/html": [
       "<div>\n",
       "<style scoped>\n",
       "    .dataframe tbody tr th:only-of-type {\n",
       "        vertical-align: middle;\n",
       "    }\n",
       "\n",
       "    .dataframe tbody tr th {\n",
       "        vertical-align: top;\n",
       "    }\n",
       "\n",
       "    .dataframe thead th {\n",
       "        text-align: right;\n",
       "    }\n",
       "</style>\n",
       "<table border=\"1\" class=\"dataframe\">\n",
       "  <thead>\n",
       "    <tr style=\"text-align: right;\">\n",
       "      <th></th>\n",
       "      <th>case_id</th>\n",
       "      <th>continent</th>\n",
       "      <th>education_of_employee</th>\n",
       "      <th>has_job_experience</th>\n",
       "      <th>requires_job_training</th>\n",
       "      <th>no_of_employees</th>\n",
       "      <th>yr_of_estab</th>\n",
       "      <th>region_of_employment</th>\n",
       "      <th>prevailing_wage</th>\n",
       "      <th>unit_of_wage</th>\n",
       "      <th>full_time_position</th>\n",
       "      <th>case_status</th>\n",
       "    </tr>\n",
       "  </thead>\n",
       "  <tbody>\n",
       "    <tr>\n",
       "      <th>0</th>\n",
       "      <td>EZYV01</td>\n",
       "      <td>Asia</td>\n",
       "      <td>High School</td>\n",
       "      <td>N</td>\n",
       "      <td>N</td>\n",
       "      <td>14513</td>\n",
       "      <td>2007</td>\n",
       "      <td>West</td>\n",
       "      <td>592.2029</td>\n",
       "      <td>Hour</td>\n",
       "      <td>Y</td>\n",
       "      <td>Denied</td>\n",
       "    </tr>\n",
       "    <tr>\n",
       "      <th>1</th>\n",
       "      <td>EZYV02</td>\n",
       "      <td>Asia</td>\n",
       "      <td>Master's</td>\n",
       "      <td>Y</td>\n",
       "      <td>N</td>\n",
       "      <td>2412</td>\n",
       "      <td>2002</td>\n",
       "      <td>Northeast</td>\n",
       "      <td>83425.6500</td>\n",
       "      <td>Year</td>\n",
       "      <td>Y</td>\n",
       "      <td>Certified</td>\n",
       "    </tr>\n",
       "    <tr>\n",
       "      <th>2</th>\n",
       "      <td>EZYV03</td>\n",
       "      <td>Asia</td>\n",
       "      <td>Bachelor's</td>\n",
       "      <td>N</td>\n",
       "      <td>Y</td>\n",
       "      <td>44444</td>\n",
       "      <td>2008</td>\n",
       "      <td>West</td>\n",
       "      <td>122996.8600</td>\n",
       "      <td>Year</td>\n",
       "      <td>Y</td>\n",
       "      <td>Denied</td>\n",
       "    </tr>\n",
       "    <tr>\n",
       "      <th>3</th>\n",
       "      <td>EZYV04</td>\n",
       "      <td>Asia</td>\n",
       "      <td>Bachelor's</td>\n",
       "      <td>N</td>\n",
       "      <td>N</td>\n",
       "      <td>98</td>\n",
       "      <td>1897</td>\n",
       "      <td>West</td>\n",
       "      <td>83434.0300</td>\n",
       "      <td>Year</td>\n",
       "      <td>Y</td>\n",
       "      <td>Denied</td>\n",
       "    </tr>\n",
       "    <tr>\n",
       "      <th>4</th>\n",
       "      <td>EZYV05</td>\n",
       "      <td>Africa</td>\n",
       "      <td>Master's</td>\n",
       "      <td>Y</td>\n",
       "      <td>N</td>\n",
       "      <td>1082</td>\n",
       "      <td>2005</td>\n",
       "      <td>South</td>\n",
       "      <td>149907.3900</td>\n",
       "      <td>Year</td>\n",
       "      <td>Y</td>\n",
       "      <td>Certified</td>\n",
       "    </tr>\n",
       "    <tr>\n",
       "      <th>...</th>\n",
       "      <td>...</td>\n",
       "      <td>...</td>\n",
       "      <td>...</td>\n",
       "      <td>...</td>\n",
       "      <td>...</td>\n",
       "      <td>...</td>\n",
       "      <td>...</td>\n",
       "      <td>...</td>\n",
       "      <td>...</td>\n",
       "      <td>...</td>\n",
       "      <td>...</td>\n",
       "      <td>...</td>\n",
       "    </tr>\n",
       "    <tr>\n",
       "      <th>25475</th>\n",
       "      <td>EZYV25476</td>\n",
       "      <td>Asia</td>\n",
       "      <td>Bachelor's</td>\n",
       "      <td>Y</td>\n",
       "      <td>Y</td>\n",
       "      <td>2601</td>\n",
       "      <td>2008</td>\n",
       "      <td>South</td>\n",
       "      <td>77092.5700</td>\n",
       "      <td>Year</td>\n",
       "      <td>Y</td>\n",
       "      <td>Certified</td>\n",
       "    </tr>\n",
       "    <tr>\n",
       "      <th>25476</th>\n",
       "      <td>EZYV25477</td>\n",
       "      <td>Asia</td>\n",
       "      <td>High School</td>\n",
       "      <td>Y</td>\n",
       "      <td>N</td>\n",
       "      <td>3274</td>\n",
       "      <td>2006</td>\n",
       "      <td>Northeast</td>\n",
       "      <td>279174.7900</td>\n",
       "      <td>Year</td>\n",
       "      <td>Y</td>\n",
       "      <td>Certified</td>\n",
       "    </tr>\n",
       "    <tr>\n",
       "      <th>25477</th>\n",
       "      <td>EZYV25478</td>\n",
       "      <td>Asia</td>\n",
       "      <td>Master's</td>\n",
       "      <td>Y</td>\n",
       "      <td>N</td>\n",
       "      <td>1121</td>\n",
       "      <td>1910</td>\n",
       "      <td>South</td>\n",
       "      <td>146298.8500</td>\n",
       "      <td>Year</td>\n",
       "      <td>N</td>\n",
       "      <td>Certified</td>\n",
       "    </tr>\n",
       "    <tr>\n",
       "      <th>25478</th>\n",
       "      <td>EZYV25479</td>\n",
       "      <td>Asia</td>\n",
       "      <td>Master's</td>\n",
       "      <td>Y</td>\n",
       "      <td>Y</td>\n",
       "      <td>1918</td>\n",
       "      <td>1887</td>\n",
       "      <td>West</td>\n",
       "      <td>86154.7700</td>\n",
       "      <td>Year</td>\n",
       "      <td>Y</td>\n",
       "      <td>Certified</td>\n",
       "    </tr>\n",
       "    <tr>\n",
       "      <th>25479</th>\n",
       "      <td>EZYV25480</td>\n",
       "      <td>Asia</td>\n",
       "      <td>Bachelor's</td>\n",
       "      <td>Y</td>\n",
       "      <td>N</td>\n",
       "      <td>3195</td>\n",
       "      <td>1960</td>\n",
       "      <td>Midwest</td>\n",
       "      <td>70876.9100</td>\n",
       "      <td>Year</td>\n",
       "      <td>Y</td>\n",
       "      <td>Certified</td>\n",
       "    </tr>\n",
       "  </tbody>\n",
       "</table>\n",
       "<p>25480 rows × 12 columns</p>\n",
       "</div>"
      ],
      "text/plain": [
       "         case_id continent education_of_employee has_job_experience  \\\n",
       "0         EZYV01      Asia           High School                  N   \n",
       "1         EZYV02      Asia              Master's                  Y   \n",
       "2         EZYV03      Asia            Bachelor's                  N   \n",
       "3         EZYV04      Asia            Bachelor's                  N   \n",
       "4         EZYV05    Africa              Master's                  Y   \n",
       "...          ...       ...                   ...                ...   \n",
       "25475  EZYV25476      Asia            Bachelor's                  Y   \n",
       "25476  EZYV25477      Asia           High School                  Y   \n",
       "25477  EZYV25478      Asia              Master's                  Y   \n",
       "25478  EZYV25479      Asia              Master's                  Y   \n",
       "25479  EZYV25480      Asia            Bachelor's                  Y   \n",
       "\n",
       "      requires_job_training  no_of_employees  yr_of_estab  \\\n",
       "0                         N            14513         2007   \n",
       "1                         N             2412         2002   \n",
       "2                         Y            44444         2008   \n",
       "3                         N               98         1897   \n",
       "4                         N             1082         2005   \n",
       "...                     ...              ...          ...   \n",
       "25475                     Y             2601         2008   \n",
       "25476                     N             3274         2006   \n",
       "25477                     N             1121         1910   \n",
       "25478                     Y             1918         1887   \n",
       "25479                     N             3195         1960   \n",
       "\n",
       "      region_of_employment  prevailing_wage unit_of_wage full_time_position  \\\n",
       "0                     West         592.2029         Hour                  Y   \n",
       "1                Northeast       83425.6500         Year                  Y   \n",
       "2                     West      122996.8600         Year                  Y   \n",
       "3                     West       83434.0300         Year                  Y   \n",
       "4                    South      149907.3900         Year                  Y   \n",
       "...                    ...              ...          ...                ...   \n",
       "25475                South       77092.5700         Year                  Y   \n",
       "25476            Northeast      279174.7900         Year                  Y   \n",
       "25477                South      146298.8500         Year                  N   \n",
       "25478                 West       86154.7700         Year                  Y   \n",
       "25479              Midwest       70876.9100         Year                  Y   \n",
       "\n",
       "      case_status  \n",
       "0          Denied  \n",
       "1       Certified  \n",
       "2          Denied  \n",
       "3          Denied  \n",
       "4       Certified  \n",
       "...           ...  \n",
       "25475   Certified  \n",
       "25476   Certified  \n",
       "25477   Certified  \n",
       "25478   Certified  \n",
       "25479   Certified  \n",
       "\n",
       "[25480 rows x 12 columns]"
      ]
     },
     "execution_count": 6,
     "metadata": {},
     "output_type": "execute_result"
    }
   ],
   "source": [
    "df"
   ]
  },
  {
   "cell_type": "code",
   "execution_count": 7,
   "id": "888fb942",
   "metadata": {},
   "outputs": [
    {
     "data": {
      "text/html": [
       "<div>\n",
       "<style scoped>\n",
       "    .dataframe tbody tr th:only-of-type {\n",
       "        vertical-align: middle;\n",
       "    }\n",
       "\n",
       "    .dataframe tbody tr th {\n",
       "        vertical-align: top;\n",
       "    }\n",
       "\n",
       "    .dataframe thead th {\n",
       "        text-align: right;\n",
       "    }\n",
       "</style>\n",
       "<table border=\"1\" class=\"dataframe\">\n",
       "  <thead>\n",
       "    <tr style=\"text-align: right;\">\n",
       "      <th></th>\n",
       "      <th>case_id</th>\n",
       "      <th>continent</th>\n",
       "      <th>education_of_employee</th>\n",
       "      <th>has_job_experience</th>\n",
       "      <th>requires_job_training</th>\n",
       "      <th>no_of_employees</th>\n",
       "      <th>yr_of_estab</th>\n",
       "      <th>region_of_employment</th>\n",
       "      <th>prevailing_wage</th>\n",
       "      <th>unit_of_wage</th>\n",
       "      <th>full_time_position</th>\n",
       "      <th>case_status</th>\n",
       "    </tr>\n",
       "  </thead>\n",
       "  <tbody>\n",
       "    <tr>\n",
       "      <th>0</th>\n",
       "      <td>EZYV01</td>\n",
       "      <td>Asia</td>\n",
       "      <td>High School</td>\n",
       "      <td>N</td>\n",
       "      <td>N</td>\n",
       "      <td>14513</td>\n",
       "      <td>2007</td>\n",
       "      <td>West</td>\n",
       "      <td>592.2029</td>\n",
       "      <td>Hour</td>\n",
       "      <td>Y</td>\n",
       "      <td>Denied</td>\n",
       "    </tr>\n",
       "  </tbody>\n",
       "</table>\n",
       "</div>"
      ],
      "text/plain": [
       "  case_id continent education_of_employee has_job_experience  \\\n",
       "0  EZYV01      Asia           High School                  N   \n",
       "\n",
       "  requires_job_training  no_of_employees  yr_of_estab region_of_employment  \\\n",
       "0                     N            14513         2007                 West   \n",
       "\n",
       "   prevailing_wage unit_of_wage full_time_position case_status  \n",
       "0         592.2029         Hour                  Y      Denied  "
      ]
     },
     "execution_count": 7,
     "metadata": {},
     "output_type": "execute_result"
    }
   ],
   "source": [
    "df.head(1)"
   ]
  },
  {
   "cell_type": "markdown",
   "id": "61bedffb",
   "metadata": {},
   "source": [
    "# **Select Numerical columns**"
   ]
  },
  {
   "cell_type": "code",
   "execution_count": 8,
   "id": "2a4b0d70",
   "metadata": {},
   "outputs": [
    {
     "data": {
      "text/plain": [
       "Index(['no_of_employees', 'yr_of_estab', 'prevailing_wage'], dtype='object')"
      ]
     },
     "execution_count": 8,
     "metadata": {},
     "output_type": "execute_result"
    }
   ],
   "source": [
    "num_df=df.select_dtypes(exclude='object').columns\n",
    "num_df"
   ]
  },
  {
   "cell_type": "markdown",
   "id": "0fde8f07",
   "metadata": {},
   "source": [
    "# **prevailing_wage**"
   ]
  },
  {
   "cell_type": "markdown",
   "id": "89f383ee",
   "metadata": {},
   "source": [
    "# -length\n",
    "\n",
    "-max\n",
    "\n",
    "-min\n",
    "\n",
    "-mean\n",
    "\n",
    "-std\n",
    "\n",
    "-75%\n",
    "\n",
    "-50%\n",
    "\n",
    "-25%"
   ]
  },
  {
   "cell_type": "code",
   "execution_count": 9,
   "id": "556666ff",
   "metadata": {},
   "outputs": [
    {
     "data": {
      "text/plain": [
       "25480"
      ]
     },
     "execution_count": 9,
     "metadata": {},
     "output_type": "execute_result"
    }
   ],
   "source": [
    "len(df['prevailing_wage'])"
   ]
  },
  {
   "cell_type": "code",
   "execution_count": 10,
   "id": "f28d0245",
   "metadata": {},
   "outputs": [
    {
     "data": {
      "text/plain": [
       "319210.27"
      ]
     },
     "execution_count": 10,
     "metadata": {},
     "output_type": "execute_result"
    }
   ],
   "source": [
    "max(df['prevailing_wage']) #keyword"
   ]
  },
  {
   "cell_type": "code",
   "execution_count": 11,
   "id": "31dc3cf9",
   "metadata": {},
   "outputs": [
    {
     "data": {
      "text/plain": [
       "319210.27"
      ]
     },
     "execution_count": 11,
     "metadata": {},
     "output_type": "execute_result"
    }
   ],
   "source": [
    "df['prevailing_wage'].max() #pandas"
   ]
  },
  {
   "cell_type": "code",
   "execution_count": 12,
   "id": "f080aed6",
   "metadata": {},
   "outputs": [
    {
     "data": {
      "text/plain": [
       "319210.27"
      ]
     },
     "execution_count": 12,
     "metadata": {},
     "output_type": "execute_result"
    }
   ],
   "source": [
    "np.max(df['prevailing_wage']) #numpy"
   ]
  },
  {
   "cell_type": "code",
   "execution_count": 13,
   "id": "750ca7db",
   "metadata": {},
   "outputs": [
    {
     "data": {
      "text/plain": [
       "2.1367"
      ]
     },
     "execution_count": 13,
     "metadata": {},
     "output_type": "execute_result"
    }
   ],
   "source": [
    "min(df['prevailing_wage'])"
   ]
  },
  {
   "cell_type": "code",
   "execution_count": 14,
   "id": "494a0bd8",
   "metadata": {},
   "outputs": [
    {
     "data": {
      "text/plain": [
       "2.1367"
      ]
     },
     "execution_count": 14,
     "metadata": {},
     "output_type": "execute_result"
    }
   ],
   "source": [
    "df['prevailing_wage'].min()"
   ]
  },
  {
   "cell_type": "code",
   "execution_count": 15,
   "id": "921e6c22",
   "metadata": {},
   "outputs": [
    {
     "data": {
      "text/plain": [
       "2.1367"
      ]
     },
     "execution_count": 15,
     "metadata": {},
     "output_type": "execute_result"
    }
   ],
   "source": [
    "np.min(df['prevailing_wage']) "
   ]
  },
  {
   "cell_type": "code",
   "execution_count": 16,
   "id": "a24d727e",
   "metadata": {},
   "outputs": [
    {
     "data": {
      "text/plain": [
       "74455.81459209221"
      ]
     },
     "execution_count": 16,
     "metadata": {},
     "output_type": "execute_result"
    }
   ],
   "source": [
    "(df['prevailing_wage']).mean()"
   ]
  },
  {
   "cell_type": "code",
   "execution_count": 17,
   "id": "725c9d66",
   "metadata": {},
   "outputs": [
    {
     "data": {
      "text/plain": [
       "74455.81459209221"
      ]
     },
     "execution_count": 17,
     "metadata": {},
     "output_type": "execute_result"
    }
   ],
   "source": [
    "np.mean(df['prevailing_wage']) "
   ]
  },
  {
   "cell_type": "code",
   "execution_count": 18,
   "id": "b2e34549",
   "metadata": {},
   "outputs": [
    {
     "data": {
      "text/plain": [
       "70308.20999999999"
      ]
     },
     "execution_count": 18,
     "metadata": {},
     "output_type": "execute_result"
    }
   ],
   "source": [
    "(df['prevailing_wage']).median()"
   ]
  },
  {
   "cell_type": "code",
   "execution_count": 19,
   "id": "35c21a6a",
   "metadata": {},
   "outputs": [
    {
     "data": {
      "text/plain": [
       "70308.20999999999"
      ]
     },
     "execution_count": 19,
     "metadata": {},
     "output_type": "execute_result"
    }
   ],
   "source": [
    "np.median(df['prevailing_wage']) "
   ]
  },
  {
   "cell_type": "code",
   "execution_count": 20,
   "id": "06f8b217",
   "metadata": {},
   "outputs": [
    {
     "data": {
      "text/plain": [
       "52815.94232687357"
      ]
     },
     "execution_count": 20,
     "metadata": {},
     "output_type": "execute_result"
    }
   ],
   "source": [
    "(df['prevailing_wage']).std()"
   ]
  },
  {
   "cell_type": "code",
   "execution_count": 21,
   "id": "ff6a9678",
   "metadata": {},
   "outputs": [
    {
     "data": {
      "text/plain": [
       "52814.90589711402"
      ]
     },
     "execution_count": 21,
     "metadata": {},
     "output_type": "execute_result"
    }
   ],
   "source": [
    "np.std(df['prevailing_wage']) "
   ]
  },
  {
   "cell_type": "markdown",
   "id": "98770e5f",
   "metadata": {},
   "source": [
    "# **Mode is not good option because it is numerical value**"
   ]
  },
  {
   "cell_type": "code",
   "execution_count": 22,
   "id": "777f5547",
   "metadata": {},
   "outputs": [
    {
     "data": {
      "text/html": [
       "<div>\n",
       "<style scoped>\n",
       "    .dataframe tbody tr th:only-of-type {\n",
       "        vertical-align: middle;\n",
       "    }\n",
       "\n",
       "    .dataframe tbody tr th {\n",
       "        vertical-align: top;\n",
       "    }\n",
       "\n",
       "    .dataframe thead th {\n",
       "        text-align: right;\n",
       "    }\n",
       "</style>\n",
       "<table border=\"1\" class=\"dataframe\">\n",
       "  <thead>\n",
       "    <tr style=\"text-align: right;\">\n",
       "      <th></th>\n",
       "      <th>prevailing_wage</th>\n",
       "    </tr>\n",
       "  </thead>\n",
       "  <tbody>\n",
       "    <tr>\n",
       "      <th>count</th>\n",
       "      <td>25480.00</td>\n",
       "    </tr>\n",
       "    <tr>\n",
       "      <th>max</th>\n",
       "      <td>319210.27</td>\n",
       "    </tr>\n",
       "    <tr>\n",
       "      <th>min</th>\n",
       "      <td>2.14</td>\n",
       "    </tr>\n",
       "    <tr>\n",
       "      <th>mean</th>\n",
       "      <td>74455.81</td>\n",
       "    </tr>\n",
       "    <tr>\n",
       "      <th>median</th>\n",
       "      <td>70308.21</td>\n",
       "    </tr>\n",
       "    <tr>\n",
       "      <th>std</th>\n",
       "      <td>52815.94</td>\n",
       "    </tr>\n",
       "  </tbody>\n",
       "</table>\n",
       "</div>"
      ],
      "text/plain": [
       "        prevailing_wage\n",
       "count          25480.00\n",
       "max           319210.27\n",
       "min                2.14\n",
       "mean           74455.81\n",
       "median         70308.21\n",
       "std            52815.94"
      ]
     },
     "execution_count": 22,
     "metadata": {},
     "output_type": "execute_result"
    }
   ],
   "source": [
    "list_values=[]\n",
    "\n",
    "\n",
    "wage_count=round(len(df['prevailing_wage']),2)\n",
    "wage_max=round(df['prevailing_wage'].max(),2)\n",
    "wage_min=round(df['prevailing_wage'].min(),2)\n",
    "wage_mean=round((df['prevailing_wage']).mean(),2)\n",
    "wage_median=round((df['prevailing_wage']).median(),2)\n",
    "wage_std=round((df['prevailing_wage']).std(),2)\n",
    "\n",
    "\n",
    "list_values=[wage_count,wage_max,wage_min,wage_mean,wage_median,wage_std]\n",
    "index_val=['count','max','min','mean','median','std']\n",
    "pd.DataFrame(list_values,index=index_val,columns=['prevailing_wage'])\n",
    "\n",
    "#Bound method means brackets like round off to 2 decimals "
   ]
  },
  {
   "cell_type": "code",
   "execution_count": 23,
   "id": "5d7ec7f3",
   "metadata": {},
   "outputs": [
    {
     "data": {
      "text/html": [
       "<div>\n",
       "<style scoped>\n",
       "    .dataframe tbody tr th:only-of-type {\n",
       "        vertical-align: middle;\n",
       "    }\n",
       "\n",
       "    .dataframe tbody tr th {\n",
       "        vertical-align: top;\n",
       "    }\n",
       "\n",
       "    .dataframe thead th {\n",
       "        text-align: right;\n",
       "    }\n",
       "</style>\n",
       "<table border=\"1\" class=\"dataframe\">\n",
       "  <thead>\n",
       "    <tr style=\"text-align: right;\">\n",
       "      <th></th>\n",
       "      <th>0</th>\n",
       "    </tr>\n",
       "  </thead>\n",
       "  <tbody>\n",
       "    <tr>\n",
       "      <th>0</th>\n",
       "      <td>25480.000000</td>\n",
       "    </tr>\n",
       "    <tr>\n",
       "      <th>1</th>\n",
       "      <td>319210.270000</td>\n",
       "    </tr>\n",
       "    <tr>\n",
       "      <th>2</th>\n",
       "      <td>2.136700</td>\n",
       "    </tr>\n",
       "    <tr>\n",
       "      <th>3</th>\n",
       "      <td>74455.814592</td>\n",
       "    </tr>\n",
       "    <tr>\n",
       "      <th>4</th>\n",
       "      <td>70308.210000</td>\n",
       "    </tr>\n",
       "    <tr>\n",
       "      <th>5</th>\n",
       "      <td>52815.942327</td>\n",
       "    </tr>\n",
       "  </tbody>\n",
       "</table>\n",
       "</div>"
      ],
      "text/plain": [
       "               0\n",
       "0   25480.000000\n",
       "1  319210.270000\n",
       "2       2.136700\n",
       "3   74455.814592\n",
       "4   70308.210000\n",
       "5   52815.942327"
      ]
     },
     "execution_count": 23,
     "metadata": {},
     "output_type": "execute_result"
    }
   ],
   "source": [
    "#This is time-consuming method\n",
    "#So don't prefer this\n",
    "\n",
    "list_values=[]\n",
    "\n",
    "\n",
    "wage_count=len(df['prevailing_wage'])\n",
    "wage_max=df['prevailing_wage'].max() \n",
    "wage_min=df['prevailing_wage'].min()\n",
    "wage_mean=(df['prevailing_wage']).mean()\n",
    "wage_median=(df['prevailing_wage']).median()\n",
    "wage_std=(df['prevailing_wage']).std()\n",
    "\n",
    "list_values.append(wage_count)\n",
    "list_values.append(wage_max)\n",
    "list_values.append(wage_min)\n",
    "list_values.append(wage_mean)\n",
    "list_values.append(wage_median)\n",
    "list_values.append(wage_std)\n",
    "\n",
    "\n",
    "\n",
    "\n",
    "pd.DataFrame(list_values)\n"
   ]
  },
  {
   "cell_type": "markdown",
   "id": "cc330cdf",
   "metadata": {},
   "source": [
    "# **Percentile and Quantile**\n",
    "\n",
    "-Percentile:\n",
    "    \n",
    "    -np.percentile()\n",
    "    \n",
    "    -It will take two arguments\n",
    "    \n",
    "      -data:a\n",
    "        \n",
    "      -percentile:q the values varies from 0 to 100\n",
    "        \n",
    "      -If you want 50p data q=50\n",
    "        \n",
    "-Quantlie:\n",
    "    \n",
    "    -np.quantile()\n",
    "    \n",
    "    \n",
    "    -data:a\n",
    "        \n",
    "     -percentile:q the values varies from 0 to 1\n",
    "        \n",
    "     -If you want 50p q=0.5"
   ]
  },
  {
   "cell_type": "code",
   "execution_count": 24,
   "id": "8bb74b7e",
   "metadata": {},
   "outputs": [
    {
     "name": "stdout",
     "output_type": "stream",
     "text": [
      "the 25% data is 34015.48\n",
      "the 50% data is 70308.21\n",
      "the 75% data is 107735.51\n"
     ]
    }
   ],
   "source": [
    "wage_25p=round(np.percentile(df['prevailing_wage'],25),2)\n",
    "wage_50p=round(np.percentile(df['prevailing_wage'],50),2)\n",
    "wage_75p=round(np.percentile(df['prevailing_wage'],75),2)\n",
    "\n",
    "print(f\"the 25% data is {wage_25p}\")\n",
    "print(f\"the 50% data is {wage_50p}\")\n",
    "print(f\"the 75% data is {wage_75p}\")"
   ]
  },
  {
   "cell_type": "code",
   "execution_count": 25,
   "id": "5266bcdd",
   "metadata": {},
   "outputs": [
    {
     "name": "stdout",
     "output_type": "stream",
     "text": [
      "the 25% data is 34015.48\n",
      "the 50% data is 70308.21\n",
      "the 75% data is 107735.51\n"
     ]
    }
   ],
   "source": [
    "wage_25q=round(np.quantile(df['prevailing_wage'],0.25),2)\n",
    "wage_50q=round(np.quantile(df['prevailing_wage'],0.5),2)\n",
    "wage_75q=round(np.quantile(df['prevailing_wage'],0.75),2)\n",
    "\n",
    "\n",
    "print(f\"the 25% data is {wage_25q}\")\n",
    "print(f\"the 50% data is {wage_50q}\")\n",
    "print(f\"the 75% data is {wage_75q}\")"
   ]
  },
  {
   "cell_type": "markdown",
   "id": "ce716028",
   "metadata": {},
   "source": [
    "# **Understand the percentiles**\n",
    "\n",
    "-defination of 25percentile\n",
    "\n",
    "-there are 25% employess has salary less than 34015\n",
    "\n",
    "-total employees = 25480\n",
    "\n",
    "-25% of employees = 25*25480/100=6370\n",
    "\n",
    "6370 employees salary less than 34015\n",
    "\n"
   ]
  },
  {
   "cell_type": "code",
   "execution_count": 26,
   "id": "e9e4ea82",
   "metadata": {},
   "outputs": [
    {
     "data": {
      "text/plain": [
       "6370"
      ]
     },
     "execution_count": 26,
     "metadata": {},
     "output_type": "execute_result"
    }
   ],
   "source": [
    "con=df['prevailing_wage']<34015\n",
    "len(df[con])"
   ]
  },
  {
   "cell_type": "code",
   "execution_count": 27,
   "id": "d6fa9c7d",
   "metadata": {},
   "outputs": [
    {
     "data": {
      "text/plain": [
       "12740"
      ]
     },
     "execution_count": 27,
     "metadata": {},
     "output_type": "execute_result"
    }
   ],
   "source": [
    "con=df['prevailing_wage']<70308\n",
    "len(df[con])"
   ]
  },
  {
   "cell_type": "code",
   "execution_count": 28,
   "id": "9b738bb2",
   "metadata": {},
   "outputs": [
    {
     "data": {
      "text/plain": [
       "19110"
      ]
     },
     "execution_count": 28,
     "metadata": {},
     "output_type": "execute_result"
    }
   ],
   "source": [
    "con=df['prevailing_wage']<107735\n",
    "len(df[con])"
   ]
  },
  {
   "cell_type": "code",
   "execution_count": 29,
   "id": "b470de3e",
   "metadata": {},
   "outputs": [
    {
     "data": {
      "text/plain": [
       "6370"
      ]
     },
     "execution_count": 29,
     "metadata": {},
     "output_type": "execute_result"
    }
   ],
   "source": [
    "con=df['prevailing_wage']<wage_25p\n",
    "len(df[con])"
   ]
  },
  {
   "cell_type": "code",
   "execution_count": 30,
   "id": "ed7181cc",
   "metadata": {},
   "outputs": [
    {
     "data": {
      "text/plain": [
       "12740"
      ]
     },
     "execution_count": 30,
     "metadata": {},
     "output_type": "execute_result"
    }
   ],
   "source": [
    "con=df['prevailing_wage']<wage_50p\n",
    "len(df[con])"
   ]
  },
  {
   "cell_type": "code",
   "execution_count": 31,
   "id": "10be5a78",
   "metadata": {},
   "outputs": [
    {
     "data": {
      "text/plain": [
       "19110"
      ]
     },
     "execution_count": 31,
     "metadata": {},
     "output_type": "execute_result"
    }
   ],
   "source": [
    "con=df['prevailing_wage']<wage_75p\n",
    "len(df[con])"
   ]
  },
  {
   "cell_type": "markdown",
   "id": "d6ad0030",
   "metadata": {},
   "source": [
    "# **Emperical Rule 68-95-99.7**\n",
    "\n",
    "-First Calculate mean value\n",
    "\n",
    "-Second Calculate std value\n",
    "\n",
    "-Con1:mean-1*std\n",
    "    \n",
    "-Con2:mean+1*std\n",
    "    \n",
    "If you apply above conditions on wage data,the output count should be equal to 68 percentile data\n",
    "\n",
    "-68% of total employees:17326"
   ]
  },
  {
   "cell_type": "code",
   "execution_count": 32,
   "id": "12b7436e",
   "metadata": {},
   "outputs": [
    {
     "data": {
      "text/plain": [
       "17326.4"
      ]
     },
     "execution_count": 32,
     "metadata": {},
     "output_type": "execute_result"
    }
   ],
   "source": [
    "68*25480/100"
   ]
  },
  {
   "cell_type": "code",
   "execution_count": 33,
   "id": "f688c29b",
   "metadata": {},
   "outputs": [
    {
     "data": {
      "text/plain": [
       "(17171, 17326.4)"
      ]
     },
     "execution_count": 33,
     "metadata": {},
     "output_type": "execute_result"
    }
   ],
   "source": [
    "v1=wage_mean-1*wage_std\n",
    "v2=wage_mean+1+wage_std\n",
    "v1,v2\n",
    "con1=df['prevailing_wage']>v1\n",
    "con2=df['prevailing_wage']<v2\n",
    "\n",
    "count1=len(df[con1 & con2])\n",
    "\n",
    "########################################################################\n",
    "68*25480/100\n",
    "count1,68*25480/100"
   ]
  },
  {
   "cell_type": "code",
   "execution_count": 34,
   "id": "f6905d3c",
   "metadata": {},
   "outputs": [
    {
     "data": {
      "text/plain": [
       "24206.0"
      ]
     },
     "execution_count": 34,
     "metadata": {},
     "output_type": "execute_result"
    }
   ],
   "source": [
    "95*25480/100"
   ]
  },
  {
   "cell_type": "code",
   "execution_count": 35,
   "id": "6851526c",
   "metadata": {},
   "outputs": [
    {
     "data": {
      "text/plain": [
       "(21727, 24206.0)"
      ]
     },
     "execution_count": 35,
     "metadata": {},
     "output_type": "execute_result"
    }
   ],
   "source": [
    "v1=wage_mean-2*wage_std\n",
    "v2=wage_mean+2+wage_std\n",
    "v1,v2\n",
    "con1=df['prevailing_wage']>v1\n",
    "con2=df['prevailing_wage']<v2\n",
    "\n",
    "count1=len(df[con1 & con2])\n",
    "\n",
    "########################################################################\n",
    "\n",
    "count1,95*25480/100"
   ]
  },
  {
   "cell_type": "code",
   "execution_count": 36,
   "id": "b7237f77",
   "metadata": {},
   "outputs": [
    {
     "data": {
      "text/plain": [
       "25403.56"
      ]
     },
     "execution_count": 36,
     "metadata": {},
     "output_type": "execute_result"
    }
   ],
   "source": [
    "99.7*25480/100"
   ]
  },
  {
   "cell_type": "code",
   "execution_count": 37,
   "id": "db22237d",
   "metadata": {},
   "outputs": [
    {
     "data": {
      "text/plain": [
       "(21727, 25403.56)"
      ]
     },
     "execution_count": 37,
     "metadata": {},
     "output_type": "execute_result"
    }
   ],
   "source": [
    "v5=wage_mean-3*wage_std\n",
    "v6=wage_mean+3+wage_std\n",
    "v5,v6\n",
    "con1=df['prevailing_wage']>v5\n",
    "con2=df['prevailing_wage']<v6\n",
    "\n",
    "count1=len(df[con1 & con2])\n",
    "\n",
    "########################################################################\n",
    "99.7*25480/100\n",
    "count1,99.7*25480/100"
   ]
  },
  {
   "cell_type": "code",
   "execution_count": 38,
   "id": "c2fe6221",
   "metadata": {},
   "outputs": [
    {
     "data": {
      "text/html": [
       "<div>\n",
       "<style scoped>\n",
       "    .dataframe tbody tr th:only-of-type {\n",
       "        vertical-align: middle;\n",
       "    }\n",
       "\n",
       "    .dataframe tbody tr th {\n",
       "        vertical-align: top;\n",
       "    }\n",
       "\n",
       "    .dataframe thead th {\n",
       "        text-align: right;\n",
       "    }\n",
       "</style>\n",
       "<table border=\"1\" class=\"dataframe\">\n",
       "  <thead>\n",
       "    <tr style=\"text-align: right;\">\n",
       "      <th></th>\n",
       "      <th>prevailing_wage</th>\n",
       "    </tr>\n",
       "  </thead>\n",
       "  <tbody>\n",
       "    <tr>\n",
       "      <th>count</th>\n",
       "      <td>25480.00</td>\n",
       "    </tr>\n",
       "    <tr>\n",
       "      <th>max</th>\n",
       "      <td>319210.27</td>\n",
       "    </tr>\n",
       "    <tr>\n",
       "      <th>min</th>\n",
       "      <td>2.14</td>\n",
       "    </tr>\n",
       "    <tr>\n",
       "      <th>mean</th>\n",
       "      <td>74455.81</td>\n",
       "    </tr>\n",
       "    <tr>\n",
       "      <th>median</th>\n",
       "      <td>70308.21</td>\n",
       "    </tr>\n",
       "    <tr>\n",
       "      <th>std</th>\n",
       "      <td>52815.94</td>\n",
       "    </tr>\n",
       "    <tr>\n",
       "      <th>25%</th>\n",
       "      <td>34015.48</td>\n",
       "    </tr>\n",
       "    <tr>\n",
       "      <th>50%</th>\n",
       "      <td>70308.21</td>\n",
       "    </tr>\n",
       "    <tr>\n",
       "      <th>75%</th>\n",
       "      <td>107735.51</td>\n",
       "    </tr>\n",
       "  </tbody>\n",
       "</table>\n",
       "</div>"
      ],
      "text/plain": [
       "        prevailing_wage\n",
       "count          25480.00\n",
       "max           319210.27\n",
       "min                2.14\n",
       "mean           74455.81\n",
       "median         70308.21\n",
       "std            52815.94\n",
       "25%            34015.48\n",
       "50%            70308.21\n",
       "75%           107735.51"
      ]
     },
     "execution_count": 38,
     "metadata": {},
     "output_type": "execute_result"
    }
   ],
   "source": [
    "list_values=[]\n",
    "\n",
    "\n",
    "wage_count=round(len(df['prevailing_wage']),2)\n",
    "wage_max=round(df['prevailing_wage'].max(),2)\n",
    "wage_min=round(df['prevailing_wage'].min(),2)\n",
    "wage_mean=round((df['prevailing_wage']).mean(),2)\n",
    "wage_median=round((df['prevailing_wage']).median(),2)\n",
    "wage_std=round((df['prevailing_wage']).std(),2)\n",
    "##################################################################\n",
    "wage_25q=round(np.quantile(df['prevailing_wage'],0.25),2)\n",
    "wage_50q=round(np.quantile(df['prevailing_wage'],0.5),2)\n",
    "wage_75q=round(np.quantile(df['prevailing_wage'],0.75),2)\n",
    "#########################################\n",
    "\n",
    "\n",
    "list_values=[wage_count,wage_max,wage_min,wage_mean,wage_median,wage_std,wage_25p,wage_50p,wage_75p]\n",
    "index_val=['count','max','min','mean','median','std','25%','50%','75%']\n",
    "pd.DataFrame(list_values,index=index_val,columns=['prevailing_wage'])"
   ]
  },
  {
   "cell_type": "code",
   "execution_count": 39,
   "id": "17a72d73",
   "metadata": {},
   "outputs": [
    {
     "data": {
      "text/plain": [
       "25480"
      ]
     },
     "execution_count": 39,
     "metadata": {},
     "output_type": "execute_result"
    }
   ],
   "source": [
    "len(df['no_of_employees'])"
   ]
  },
  {
   "cell_type": "code",
   "execution_count": 40,
   "id": "153950eb",
   "metadata": {},
   "outputs": [
    {
     "data": {
      "text/plain": [
       "602069"
      ]
     },
     "execution_count": 40,
     "metadata": {},
     "output_type": "execute_result"
    }
   ],
   "source": [
    "df['no_of_employees'].max()"
   ]
  },
  {
   "cell_type": "code",
   "execution_count": 41,
   "id": "d7f7a836",
   "metadata": {},
   "outputs": [
    {
     "data": {
      "text/plain": [
       "-26"
      ]
     },
     "execution_count": 41,
     "metadata": {},
     "output_type": "execute_result"
    }
   ],
   "source": [
    "df['no_of_employees'].min()"
   ]
  },
  {
   "cell_type": "code",
   "execution_count": 42,
   "id": "59d4927e",
   "metadata": {},
   "outputs": [
    {
     "data": {
      "text/plain": [
       "2109.0"
      ]
     },
     "execution_count": 42,
     "metadata": {},
     "output_type": "execute_result"
    }
   ],
   "source": [
    "df['no_of_employees'].median()"
   ]
  },
  {
   "cell_type": "code",
   "execution_count": 43,
   "id": "8a212610",
   "metadata": {},
   "outputs": [
    {
     "data": {
      "text/plain": [
       "5667.043210361067"
      ]
     },
     "execution_count": 43,
     "metadata": {},
     "output_type": "execute_result"
    }
   ],
   "source": [
    "df['no_of_employees'].mean()"
   ]
  },
  {
   "cell_type": "code",
   "execution_count": 44,
   "id": "57777484",
   "metadata": {},
   "outputs": [
    {
     "data": {
      "text/plain": [
       "22877.928847734398"
      ]
     },
     "execution_count": 44,
     "metadata": {},
     "output_type": "execute_result"
    }
   ],
   "source": [
    "df['no_of_employees'].std()"
   ]
  },
  {
   "cell_type": "code",
   "execution_count": 45,
   "id": "6eef7e05",
   "metadata": {},
   "outputs": [
    {
     "data": {
      "text/html": [
       "<div>\n",
       "<style scoped>\n",
       "    .dataframe tbody tr th:only-of-type {\n",
       "        vertical-align: middle;\n",
       "    }\n",
       "\n",
       "    .dataframe tbody tr th {\n",
       "        vertical-align: top;\n",
       "    }\n",
       "\n",
       "    .dataframe thead th {\n",
       "        text-align: right;\n",
       "    }\n",
       "</style>\n",
       "<table border=\"1\" class=\"dataframe\">\n",
       "  <thead>\n",
       "    <tr style=\"text-align: right;\">\n",
       "      <th></th>\n",
       "      <th>no_of_employees</th>\n",
       "    </tr>\n",
       "  </thead>\n",
       "  <tbody>\n",
       "    <tr>\n",
       "      <th>COUNT</th>\n",
       "      <td>25480.00</td>\n",
       "    </tr>\n",
       "    <tr>\n",
       "      <th>MAX</th>\n",
       "      <td>602069.00</td>\n",
       "    </tr>\n",
       "    <tr>\n",
       "      <th>MIN</th>\n",
       "      <td>-26.00</td>\n",
       "    </tr>\n",
       "    <tr>\n",
       "      <th>MEAN</th>\n",
       "      <td>5667.04</td>\n",
       "    </tr>\n",
       "    <tr>\n",
       "      <th>MEDIAN</th>\n",
       "      <td>2109.00</td>\n",
       "    </tr>\n",
       "    <tr>\n",
       "      <th>STD</th>\n",
       "      <td>22877.93</td>\n",
       "    </tr>\n",
       "  </tbody>\n",
       "</table>\n",
       "</div>"
      ],
      "text/plain": [
       "        no_of_employees\n",
       "COUNT          25480.00\n",
       "MAX           602069.00\n",
       "MIN              -26.00\n",
       "MEAN            5667.04\n",
       "MEDIAN          2109.00\n",
       "STD            22877.93"
      ]
     },
     "execution_count": 45,
     "metadata": {},
     "output_type": "execute_result"
    }
   ],
   "source": [
    "list_values=[]\n",
    "\n",
    "employees_count=round(len(df['no_of_employees']),2)\n",
    "employees_max=round(df['no_of_employees'].max(),2)\n",
    "employees_min=round(df['no_of_employees'].min(),2)\n",
    "employees_mean=round(df['no_of_employees'].mean(),2)\n",
    "employees_median=round(df['no_of_employees'].median(),2)\n",
    "employees_std=round(df['no_of_employees'].std(),2)\n",
    "\n",
    "list_values=[employees_count,employees_max,employees_min,employees_mean,employees_median,employees_std]\n",
    "idx=['COUNT','MAX','MIN','MEAN','MEDIAN','STD']\n",
    "\n",
    "pd.DataFrame(list_values,index=idx,columns=['no_of_employees'])"
   ]
  },
  {
   "cell_type": "code",
   "execution_count": 46,
   "id": "9d452f58",
   "metadata": {},
   "outputs": [
    {
     "name": "stdout",
     "output_type": "stream",
     "text": [
      "the 25% data is1022.0\n",
      "the 50% data is2109.0\n",
      "the 75% data is3504.0\n"
     ]
    }
   ],
   "source": [
    "employees_25p=round(np.percentile(df['no_of_employees'],25),2)\n",
    "employees_50p=round(np.percentile(df['no_of_employees'],50),2)\n",
    "employees_75p=round(np.percentile(df['no_of_employees'],75),2)\n",
    "\n",
    "print(f\"the 25% data is{employees_25p}\")\n",
    "print(f\"the 50% data is{employees_50p}\")\n",
    "print(f\"the 75% data is{employees_75p}\")"
   ]
  },
  {
   "cell_type": "code",
   "execution_count": 47,
   "id": "f02da8f9",
   "metadata": {},
   "outputs": [
    {
     "name": "stdout",
     "output_type": "stream",
     "text": [
      "the 25% data is1022.0\n",
      "the 50% data is2109.0\n",
      "the 75% data is3504.0\n"
     ]
    }
   ],
   "source": [
    "employees_25p=round(np.quantile(df['no_of_employees'],0.25),2)\n",
    "employees_50p=round(np.quantile(df['no_of_employees'],0.50),2)\n",
    "employees_75p=round(np.quantile(df['no_of_employees'],0.75),2)\n",
    "\n",
    "print(f\"the 25% data is{employees_25p}\")\n",
    "print(f\"the 50% data is{employees_50p}\")\n",
    "print(f\"the 75% data is{employees_75p}\")"
   ]
  },
  {
   "cell_type": "code",
   "execution_count": 48,
   "id": "1c3214ae",
   "metadata": {},
   "outputs": [
    {
     "data": {
      "text/plain": [
       "6367"
      ]
     },
     "execution_count": 48,
     "metadata": {},
     "output_type": "execute_result"
    }
   ],
   "source": [
    "con=df['no_of_employees']<1022\n",
    "len(df[con])"
   ]
  },
  {
   "cell_type": "code",
   "execution_count": 49,
   "id": "b5e8d7e2",
   "metadata": {},
   "outputs": [
    {
     "data": {
      "text/plain": [
       "12739"
      ]
     },
     "execution_count": 49,
     "metadata": {},
     "output_type": "execute_result"
    }
   ],
   "source": [
    "con=df['no_of_employees']<2109\n",
    "len(df[con])"
   ]
  },
  {
   "cell_type": "code",
   "execution_count": 50,
   "id": "9956e14c",
   "metadata": {},
   "outputs": [
    {
     "data": {
      "text/plain": [
       "19107"
      ]
     },
     "execution_count": 50,
     "metadata": {},
     "output_type": "execute_result"
    }
   ],
   "source": [
    "con=df['no_of_employees']<3504\n",
    "len(df[con])"
   ]
  },
  {
   "cell_type": "code",
   "execution_count": 51,
   "id": "c80cfe22",
   "metadata": {},
   "outputs": [
    {
     "data": {
      "text/plain": [
       "6367"
      ]
     },
     "execution_count": 51,
     "metadata": {},
     "output_type": "execute_result"
    }
   ],
   "source": [
    "con=df['no_of_employees']<employees_25p\n",
    "len(df[con])"
   ]
  },
  {
   "cell_type": "code",
   "execution_count": 52,
   "id": "c0fb0929",
   "metadata": {},
   "outputs": [
    {
     "data": {
      "text/plain": [
       "-12739"
      ]
     },
     "execution_count": 52,
     "metadata": {},
     "output_type": "execute_result"
    }
   ],
   "source": [
    "con=df['no_of_employees']<employees_50p\n",
    "-len(df[con])"
   ]
  },
  {
   "cell_type": "code",
   "execution_count": 53,
   "id": "a7e3930a",
   "metadata": {},
   "outputs": [
    {
     "data": {
      "text/plain": [
       "19107"
      ]
     },
     "execution_count": 53,
     "metadata": {},
     "output_type": "execute_result"
    }
   ],
   "source": [
    "con=df['no_of_employees']<employees_75p\n",
    "len(df[con])"
   ]
  },
  {
   "cell_type": "code",
   "execution_count": 54,
   "id": "9f9feed7",
   "metadata": {},
   "outputs": [
    {
     "data": {
      "text/plain": [
       "17326.4"
      ]
     },
     "execution_count": 54,
     "metadata": {},
     "output_type": "execute_result"
    }
   ],
   "source": [
    "68*25480/100"
   ]
  },
  {
   "cell_type": "code",
   "execution_count": 55,
   "id": "ca36ccc0",
   "metadata": {},
   "outputs": [
    {
     "data": {
      "text/plain": [
       "(21022, 17326.4)"
      ]
     },
     "execution_count": 55,
     "metadata": {},
     "output_type": "execute_result"
    }
   ],
   "source": [
    "v1=employees_mean-1*employees_std\n",
    "v2=employees_mean+1*employees_std\n",
    "v1,v2\n",
    "con1=df['no_of_employees']>v1\n",
    "con1=df['no_of_employees']<v2\n",
    "\n",
    "count1=len(df[con1 & con2])\n",
    "\n",
    "##############################################################\n",
    "\n",
    "count1,68*25480/100"
   ]
  },
  {
   "cell_type": "code",
   "execution_count": 56,
   "id": "d838aa5a",
   "metadata": {},
   "outputs": [
    {
     "data": {
      "text/plain": [
       "(21231, 24206.0)"
      ]
     },
     "execution_count": 56,
     "metadata": {},
     "output_type": "execute_result"
    }
   ],
   "source": [
    "v3=employees_mean-2*employees_std\n",
    "v4=employees_mean+2*employees_std\n",
    "v1,v2\n",
    "con1=df['no_of_employees']>v3\n",
    "con1=df['no_of_employees']<v4\n",
    "\n",
    "count1=len(df[con1 & con2])\n",
    "\n",
    "##############################################################\n",
    "\n",
    "count1,95*25480/100"
   ]
  },
  {
   "cell_type": "code",
   "execution_count": 57,
   "id": "32ce4dff",
   "metadata": {},
   "outputs": [
    {
     "data": {
      "text/plain": [
       "(21343, 25403.56)"
      ]
     },
     "execution_count": 57,
     "metadata": {},
     "output_type": "execute_result"
    }
   ],
   "source": [
    "v3=employees_mean-3*employees_std\n",
    "v4=employees_mean+3*employees_std\n",
    "v1,v2\n",
    "con1=df['no_of_employees']>v3\n",
    "con1=df['no_of_employees']<v4\n",
    "\n",
    "count1=len(df[con1 & con2])\n",
    "\n",
    "##############################################################\n",
    "\n",
    "count1,99.7*25480/100"
   ]
  },
  {
   "cell_type": "code",
   "execution_count": 58,
   "id": "ab86a52d",
   "metadata": {},
   "outputs": [
    {
     "data": {
      "text/html": [
       "<div>\n",
       "<style scoped>\n",
       "    .dataframe tbody tr th:only-of-type {\n",
       "        vertical-align: middle;\n",
       "    }\n",
       "\n",
       "    .dataframe tbody tr th {\n",
       "        vertical-align: top;\n",
       "    }\n",
       "\n",
       "    .dataframe thead th {\n",
       "        text-align: right;\n",
       "    }\n",
       "</style>\n",
       "<table border=\"1\" class=\"dataframe\">\n",
       "  <thead>\n",
       "    <tr style=\"text-align: right;\">\n",
       "      <th></th>\n",
       "      <th>no_of_employees</th>\n",
       "    </tr>\n",
       "  </thead>\n",
       "  <tbody>\n",
       "    <tr>\n",
       "      <th>COUNT</th>\n",
       "      <td>25480.00</td>\n",
       "    </tr>\n",
       "    <tr>\n",
       "      <th>MAX</th>\n",
       "      <td>602069.00</td>\n",
       "    </tr>\n",
       "    <tr>\n",
       "      <th>MIN</th>\n",
       "      <td>-26.00</td>\n",
       "    </tr>\n",
       "    <tr>\n",
       "      <th>MEAN</th>\n",
       "      <td>5667.04</td>\n",
       "    </tr>\n",
       "    <tr>\n",
       "      <th>MEDIAN</th>\n",
       "      <td>2109.00</td>\n",
       "    </tr>\n",
       "    <tr>\n",
       "      <th>STD</th>\n",
       "      <td>22877.93</td>\n",
       "    </tr>\n",
       "    <tr>\n",
       "      <th>25%</th>\n",
       "      <td>1022.00</td>\n",
       "    </tr>\n",
       "    <tr>\n",
       "      <th>50%</th>\n",
       "      <td>2109.00</td>\n",
       "    </tr>\n",
       "    <tr>\n",
       "      <th>75%</th>\n",
       "      <td>3504.00</td>\n",
       "    </tr>\n",
       "  </tbody>\n",
       "</table>\n",
       "</div>"
      ],
      "text/plain": [
       "        no_of_employees\n",
       "COUNT          25480.00\n",
       "MAX           602069.00\n",
       "MIN              -26.00\n",
       "MEAN            5667.04\n",
       "MEDIAN          2109.00\n",
       "STD            22877.93\n",
       "25%             1022.00\n",
       "50%             2109.00\n",
       "75%             3504.00"
      ]
     },
     "execution_count": 58,
     "metadata": {},
     "output_type": "execute_result"
    }
   ],
   "source": [
    "list_values=[]\n",
    "\n",
    "employees_count=round(len(df['no_of_employees']),2)\n",
    "employees_max=round(df['no_of_employees'].max(),2)\n",
    "employees_min=round(df['no_of_employees'].min(),2)\n",
    "employees_mean=round(df['no_of_employees'].mean(),2)\n",
    "employees_median=round(df['no_of_employees'].median(),2)\n",
    "employees_std=round(df['no_of_employees'].std(),2)\n",
    "#################################################################\n",
    "employees_25p=round(np.quantile(df['no_of_employees'],0.25),2)\n",
    "employees_50p=round(np.quantile(df['no_of_employees'],0.50),2)\n",
    "employees_75p=round(np.quantile(df['no_of_employees'],0.75),2)\n",
    "#######################################################################\n",
    "\n",
    "\n",
    "list_values=[employees_count,employees_max,employees_min,employees_mean,employees_median,employees_std,employees_25p,employees_50p,employees_75p]\n",
    "idx=['COUNT','MAX','MIN','MEAN','MEDIAN','STD','25%','50%','75%']\n",
    "\n",
    "pd.DataFrame(list_values,index=idx,columns=['no_of_employees'])"
   ]
  },
  {
   "cell_type": "code",
   "execution_count": 59,
   "id": "83b5e09e",
   "metadata": {},
   "outputs": [
    {
     "data": {
      "text/html": [
       "<div>\n",
       "<style scoped>\n",
       "    .dataframe tbody tr th:only-of-type {\n",
       "        vertical-align: middle;\n",
       "    }\n",
       "\n",
       "    .dataframe tbody tr th {\n",
       "        vertical-align: top;\n",
       "    }\n",
       "\n",
       "    .dataframe thead th {\n",
       "        text-align: right;\n",
       "    }\n",
       "</style>\n",
       "<table border=\"1\" class=\"dataframe\">\n",
       "  <thead>\n",
       "    <tr style=\"text-align: right;\">\n",
       "      <th></th>\n",
       "      <th>count</th>\n",
       "      <th>max</th>\n",
       "      <th>min</th>\n",
       "      <th>mean</th>\n",
       "      <th>median</th>\n",
       "      <th>std</th>\n",
       "      <th>25%</th>\n",
       "      <th>50%</th>\n",
       "      <th>75%</th>\n",
       "    </tr>\n",
       "  </thead>\n",
       "  <tbody>\n",
       "    <tr>\n",
       "      <th>prevailing_wage</th>\n",
       "      <td>25480</td>\n",
       "      <td>602069</td>\n",
       "      <td>-26</td>\n",
       "      <td>5667.04</td>\n",
       "      <td>2109.0</td>\n",
       "      <td>22877.93</td>\n",
       "      <td>1022.0</td>\n",
       "      <td>2109.0</td>\n",
       "      <td>3504.0</td>\n",
       "    </tr>\n",
       "    <tr>\n",
       "      <th>yr_of_estab</th>\n",
       "      <td>25480</td>\n",
       "      <td>602069</td>\n",
       "      <td>-26</td>\n",
       "      <td>5667.04</td>\n",
       "      <td>2109.0</td>\n",
       "      <td>22877.93</td>\n",
       "      <td>1022.0</td>\n",
       "      <td>2109.0</td>\n",
       "      <td>3504.0</td>\n",
       "    </tr>\n",
       "    <tr>\n",
       "      <th>no_of_employees</th>\n",
       "      <td>25480</td>\n",
       "      <td>602069</td>\n",
       "      <td>-26</td>\n",
       "      <td>5667.04</td>\n",
       "      <td>2109.0</td>\n",
       "      <td>22877.93</td>\n",
       "      <td>1022.0</td>\n",
       "      <td>2109.0</td>\n",
       "      <td>3504.0</td>\n",
       "    </tr>\n",
       "  </tbody>\n",
       "</table>\n",
       "</div>"
      ],
      "text/plain": [
       "                 count     max  min     mean  median       std     25%  \\\n",
       "prevailing_wage  25480  602069  -26  5667.04  2109.0  22877.93  1022.0   \n",
       "yr_of_estab      25480  602069  -26  5667.04  2109.0  22877.93  1022.0   \n",
       "no_of_employees  25480  602069  -26  5667.04  2109.0  22877.93  1022.0   \n",
       "\n",
       "                    50%     75%  \n",
       "prevailing_wage  2109.0  3504.0  \n",
       "yr_of_estab      2109.0  3504.0  \n",
       "no_of_employees  2109.0  3504.0  "
      ]
     },
     "execution_count": 59,
     "metadata": {},
     "output_type": "execute_result"
    }
   ],
   "source": [
    "l1,l2,l3=[],[],[]\n",
    "cols=['prevailing_wage','yr_of_estab','no_of_employees']\n",
    "for i in cols:\n",
    "    count=round(len(df[i]),2)\n",
    "    maxx=round(df[i].max(),2)\n",
    "    minn=round(df[i].min(),2)\n",
    "    mean=round((df[i]).mean(),2)\n",
    "    median=round((df[i]).median(),2)\n",
    "    std=round((df[i]).std(),2)\n",
    "##################################################################\n",
    "percentile_25q=round(np.quantile(df[i],0.25),2)\n",
    "percentile_50q=round(np.quantile(df[i],0.5),2)\n",
    "percentile_75q=round(np.quantile(df[i],0.75),2)\n",
    "#########################################\n",
    "\n",
    "\n",
    "l1.append([count,maxx,minn,mean,median,std,percentile_25q,percentile_50q,percentile_75q])\n",
    "l1\n",
    "index_val=['count','max','min','mean','median','std','25%','50%','75%']\n",
    "pd.DataFrame(l1,index=cols,columns=index_val)"
   ]
  },
  {
   "cell_type": "code",
   "execution_count": 60,
   "id": "6a149bcd",
   "metadata": {},
   "outputs": [
    {
     "data": {
      "text/html": [
       "<div>\n",
       "<style scoped>\n",
       "    .dataframe tbody tr th:only-of-type {\n",
       "        vertical-align: middle;\n",
       "    }\n",
       "\n",
       "    .dataframe tbody tr th {\n",
       "        vertical-align: top;\n",
       "    }\n",
       "\n",
       "    .dataframe thead th {\n",
       "        text-align: right;\n",
       "    }\n",
       "</style>\n",
       "<table border=\"1\" class=\"dataframe\">\n",
       "  <thead>\n",
       "    <tr style=\"text-align: right;\">\n",
       "      <th></th>\n",
       "      <th>count</th>\n",
       "      <th>max</th>\n",
       "      <th>min</th>\n",
       "      <th>mean</th>\n",
       "      <th>median</th>\n",
       "      <th>std</th>\n",
       "      <th>25%</th>\n",
       "      <th>50%</th>\n",
       "      <th>75%</th>\n",
       "    </tr>\n",
       "  </thead>\n",
       "  <tbody>\n",
       "    <tr>\n",
       "      <th>prevailing_wage</th>\n",
       "      <td>25480</td>\n",
       "      <td>602069</td>\n",
       "      <td>-26</td>\n",
       "      <td>5667.04</td>\n",
       "      <td>2109.0</td>\n",
       "      <td>22877.93</td>\n",
       "      <td>1022.0</td>\n",
       "      <td>2109.0</td>\n",
       "      <td>3504.0</td>\n",
       "    </tr>\n",
       "    <tr>\n",
       "      <th>yr_of_estab</th>\n",
       "      <td>25480</td>\n",
       "      <td>602069</td>\n",
       "      <td>-26</td>\n",
       "      <td>5667.04</td>\n",
       "      <td>2109.0</td>\n",
       "      <td>22877.93</td>\n",
       "      <td>1022.0</td>\n",
       "      <td>2109.0</td>\n",
       "      <td>3504.0</td>\n",
       "    </tr>\n",
       "    <tr>\n",
       "      <th>no_of_employees</th>\n",
       "      <td>25480</td>\n",
       "      <td>602069</td>\n",
       "      <td>-26</td>\n",
       "      <td>5667.04</td>\n",
       "      <td>2109.0</td>\n",
       "      <td>22877.93</td>\n",
       "      <td>1022.0</td>\n",
       "      <td>2109.0</td>\n",
       "      <td>3504.0</td>\n",
       "    </tr>\n",
       "  </tbody>\n",
       "</table>\n",
       "</div>"
      ],
      "text/plain": [
       "                 count     max  min     mean  median       std     25%  \\\n",
       "prevailing_wage  25480  602069  -26  5667.04  2109.0  22877.93  1022.0   \n",
       "yr_of_estab      25480  602069  -26  5667.04  2109.0  22877.93  1022.0   \n",
       "no_of_employees  25480  602069  -26  5667.04  2109.0  22877.93  1022.0   \n",
       "\n",
       "                    50%     75%  \n",
       "prevailing_wage  2109.0  3504.0  \n",
       "yr_of_estab      2109.0  3504.0  \n",
       "no_of_employees  2109.0  3504.0  "
      ]
     },
     "execution_count": 60,
     "metadata": {},
     "output_type": "execute_result"
    }
   ],
   "source": [
    "l1=[]\n",
    "cols=['prevailing_wage','yr_of_estab','no_of_employees']\n",
    "for i in cols:\n",
    "    count=round(len(df[i]),2)\n",
    "    maxx=round(df[i].max(),2)\n",
    "    minn=round(df[i].min(),2)\n",
    "    mean=round((df[i]).mean(),2)\n",
    "    median=round((df[i]).median(),2)\n",
    "    std=round((df[i]).std(),2)\n",
    "##################################################################\n",
    "percentile_25q=round(np.quantile(df[i],0.25),2)\n",
    "percentile_50q=round(np.quantile(df[i],0.5),2)\n",
    "percentile_75q=round(np.quantile(df[i],0.75),2)\n",
    "#########################################\n",
    "\n",
    "\n",
    "l1.append([count,maxx,minn,mean,median,std,percentile_25q,percentile_50q,percentile_75q])\n",
    "l1\n",
    "index_val=['count','max','min','mean','median','std','25%','50%','75%']\n",
    "pd.DataFrame(l1,index=cols,columns=index_val)"
   ]
  },
  {
   "cell_type": "code",
   "execution_count": 61,
   "id": "0faf8635",
   "metadata": {},
   "outputs": [
    {
     "data": {
      "text/plain": [
       "['__add__',\n",
       " '__class__',\n",
       " '__class_getitem__',\n",
       " '__contains__',\n",
       " '__delattr__',\n",
       " '__delitem__',\n",
       " '__dir__',\n",
       " '__doc__',\n",
       " '__eq__',\n",
       " '__format__',\n",
       " '__ge__',\n",
       " '__getattribute__',\n",
       " '__getitem__',\n",
       " '__gt__',\n",
       " '__hash__',\n",
       " '__iadd__',\n",
       " '__imul__',\n",
       " '__init__',\n",
       " '__init_subclass__',\n",
       " '__iter__',\n",
       " '__le__',\n",
       " '__len__',\n",
       " '__lt__',\n",
       " '__mul__',\n",
       " '__ne__',\n",
       " '__new__',\n",
       " '__reduce__',\n",
       " '__reduce_ex__',\n",
       " '__repr__',\n",
       " '__reversed__',\n",
       " '__rmul__',\n",
       " '__setattr__',\n",
       " '__setitem__',\n",
       " '__sizeof__',\n",
       " '__str__',\n",
       " '__subclasshook__',\n",
       " 'append',\n",
       " 'clear',\n",
       " 'copy',\n",
       " 'count',\n",
       " 'extend',\n",
       " 'index',\n",
       " 'insert',\n",
       " 'pop',\n",
       " 'remove',\n",
       " 'reverse',\n",
       " 'sort']"
      ]
     },
     "execution_count": 61,
     "metadata": {},
     "output_type": "execute_result"
    }
   ],
   "source": [
    "dir(list)"
   ]
  },
  {
   "cell_type": "code",
   "execution_count": 62,
   "id": "ea7155fc",
   "metadata": {},
   "outputs": [],
   "source": [
    "#Whatever we did till now\n",
    "#will increase our python skill"
   ]
  },
  {
   "cell_type": "markdown",
   "id": "5e23ae3b",
   "metadata": {},
   "source": [
    "# **Describe **\n",
    "\n",
    "-It is only for numerical data"
   ]
  },
  {
   "cell_type": "code",
   "execution_count": 63,
   "id": "77a955b4",
   "metadata": {},
   "outputs": [
    {
     "data": {
      "text/html": [
       "<div>\n",
       "<style scoped>\n",
       "    .dataframe tbody tr th:only-of-type {\n",
       "        vertical-align: middle;\n",
       "    }\n",
       "\n",
       "    .dataframe tbody tr th {\n",
       "        vertical-align: top;\n",
       "    }\n",
       "\n",
       "    .dataframe thead th {\n",
       "        text-align: right;\n",
       "    }\n",
       "</style>\n",
       "<table border=\"1\" class=\"dataframe\">\n",
       "  <thead>\n",
       "    <tr style=\"text-align: right;\">\n",
       "      <th></th>\n",
       "      <th>no_of_employees</th>\n",
       "      <th>yr_of_estab</th>\n",
       "      <th>prevailing_wage</th>\n",
       "    </tr>\n",
       "  </thead>\n",
       "  <tbody>\n",
       "    <tr>\n",
       "      <th>count</th>\n",
       "      <td>25480.000000</td>\n",
       "      <td>25480.000000</td>\n",
       "      <td>25480.000000</td>\n",
       "    </tr>\n",
       "    <tr>\n",
       "      <th>mean</th>\n",
       "      <td>5667.043210</td>\n",
       "      <td>1979.409929</td>\n",
       "      <td>74455.814592</td>\n",
       "    </tr>\n",
       "    <tr>\n",
       "      <th>std</th>\n",
       "      <td>22877.928848</td>\n",
       "      <td>42.366929</td>\n",
       "      <td>52815.942327</td>\n",
       "    </tr>\n",
       "    <tr>\n",
       "      <th>min</th>\n",
       "      <td>-26.000000</td>\n",
       "      <td>1800.000000</td>\n",
       "      <td>2.136700</td>\n",
       "    </tr>\n",
       "    <tr>\n",
       "      <th>25%</th>\n",
       "      <td>1022.000000</td>\n",
       "      <td>1976.000000</td>\n",
       "      <td>34015.480000</td>\n",
       "    </tr>\n",
       "    <tr>\n",
       "      <th>50%</th>\n",
       "      <td>2109.000000</td>\n",
       "      <td>1997.000000</td>\n",
       "      <td>70308.210000</td>\n",
       "    </tr>\n",
       "    <tr>\n",
       "      <th>75%</th>\n",
       "      <td>3504.000000</td>\n",
       "      <td>2005.000000</td>\n",
       "      <td>107735.512500</td>\n",
       "    </tr>\n",
       "    <tr>\n",
       "      <th>max</th>\n",
       "      <td>602069.000000</td>\n",
       "      <td>2016.000000</td>\n",
       "      <td>319210.270000</td>\n",
       "    </tr>\n",
       "  </tbody>\n",
       "</table>\n",
       "</div>"
      ],
      "text/plain": [
       "       no_of_employees   yr_of_estab  prevailing_wage\n",
       "count     25480.000000  25480.000000     25480.000000\n",
       "mean       5667.043210   1979.409929     74455.814592\n",
       "std       22877.928848     42.366929     52815.942327\n",
       "min         -26.000000   1800.000000         2.136700\n",
       "25%        1022.000000   1976.000000     34015.480000\n",
       "50%        2109.000000   1997.000000     70308.210000\n",
       "75%        3504.000000   2005.000000    107735.512500\n",
       "max      602069.000000   2016.000000    319210.270000"
      ]
     },
     "execution_count": 63,
     "metadata": {},
     "output_type": "execute_result"
    }
   ],
   "source": [
    "df.describe()"
   ]
  },
  {
   "cell_type": "markdown",
   "id": "5abc377f",
   "metadata": {},
   "source": [
    "# **Histogram**\n",
    "\n",
    "-Histogram can get by matplotlib\n",
    "\n",
    "-Histogram can get by seaborn also\n"
   ]
  },
  {
   "cell_type": "code",
   "execution_count": 64,
   "id": "deb3414e",
   "metadata": {},
   "outputs": [],
   "source": [
    "import matplotlib.pyplot as plt"
   ]
  },
  {
   "cell_type": "code",
   "execution_count": 65,
   "id": "f38f4818",
   "metadata": {},
   "outputs": [
    {
     "data": {
      "text/plain": [
       "(array([6038., 5504., 5681., 4551., 2334.,  624.,  373.,  240.,  114.,\n",
       "          21.]),\n",
       " array([2.13670000e+00, 3.19229500e+04, 6.38437634e+04, 9.57645767e+04,\n",
       "        1.27685390e+05, 1.59606203e+05, 1.91527017e+05, 2.23447830e+05,\n",
       "        2.55368643e+05, 2.87289457e+05, 3.19210270e+05]),\n",
       " <BarContainer object of 10 artists>)"
      ]
     },
     "execution_count": 65,
     "metadata": {},
     "output_type": "execute_result"
    },
    {
     "data": {
      "image/png": "[encoded data removed]",
      "text/plain": [
       "<Figure size 640x480 with 1 Axes>"
      ]
     },
     "metadata": {},
     "output_type": "display_data"
    }
   ],
   "source": [
    "plt.hist(df['prevailing_wage'])\n",
    "\n"
   ]
  },
  {
   "cell_type": "markdown",
   "id": "dca71d04",
   "metadata": {},
   "source": [
    "# from interval range\n",
    "\n",
    "-2.13670000e+00 to 3.19229500e+04\n",
    "\n",
    "   -6038 members have salary\n",
    "    \n",
    "-3.19229500e+04 to 6.38437634e+04\n",
    " \n",
    "    -5504 members have salary\n",
    "    \n",
    "-Histogram will give 3 outputs\n",
    "\n",
    "  -frequency\n",
    "     \n",
    "        in each interval range how many observations are there\n",
    "        \n",
    " -interval\n",
    "\n",
    "    interval range\n",
    "    \n",
    "-number of intervals\n",
    "    \n",
    "    "
   ]
  },
  {
   "cell_type": "code",
   "execution_count": 66,
   "id": "78eaeec2",
   "metadata": {},
   "outputs": [
    {
     "data": {
      "text/plain": [
       "6038"
      ]
     },
     "execution_count": 66,
     "metadata": {},
     "output_type": "execute_result"
    }
   ],
   "source": [
    "v1=df['prevailing_wage']>-2.13670000e+00\n",
    "v2=df['prevailing_wage']<3.19229500e+04\n",
    "\n",
    "v1,v2\n",
    "\n",
    "count1=len(df[v1 & v2])\n",
    "\n",
    "count1"
   ]
  },
  {
   "cell_type": "markdown",
   "id": "f9408b30",
   "metadata": {},
   "source": [
    "# **BINS**"
   ]
  },
  {
   "cell_type": "code",
   "execution_count": 67,
   "id": "b4b926a7",
   "metadata": {},
   "outputs": [
    {
     "name": "stdout",
     "output_type": "stream",
     "text": [
      "<BarContainer object of 100 artists>\n"
     ]
    },
    {
     "data": {
      "image/png": "[encoded data removed]",
      "text/plain": [
       "<Figure size 640x480 with 1 Axes>"
      ]
     },
     "metadata": {},
     "output_type": "display_data"
    }
   ],
   "source": [
    "f,i,n=plt.hist(df['prevailing_wage'],bins=100)\n",
    "print(n)"
   ]
  },
  {
   "cell_type": "code",
   "execution_count": 68,
   "id": "25a2ce13",
   "metadata": {},
   "outputs": [
    {
     "data": {
      "image/png": "[encoded data removed]",
      "text/plain": [
       "<Figure size 640x480 with 1 Axes>"
      ]
     },
     "metadata": {},
     "output_type": "display_data"
    }
   ],
   "source": [
    "plt.hist(df['prevailing_wage'],bins=40)\n",
    "plt.title(\"HISTOGRAM\")\n",
    "plt.xlabel(\"class interval\")\n",
    "plt.ylabel(\"count\")\n",
    "plt.show()"
   ]
  },
  {
   "cell_type": "code",
   "execution_count": 69,
   "id": "4ab9ec0f",
   "metadata": {},
   "outputs": [
    {
     "data": {
      "text/plain": [
       "Text(0, 0.5, 'count')"
      ]
     },
     "execution_count": 69,
     "metadata": {},
     "output_type": "execute_result"
    },
    {
     "data": {
      "image/png": "[encoded data removed]",
      "text/plain": [
       "<Figure size 1800x300 with 3 Axes>"
      ]
     },
     "metadata": {},
     "output_type": "display_data"
    }
   ],
   "source": [
    "plt.figure(figsize=(18,3))\n",
    "plt.subplot(1,3,1)\n",
    "plt.hist(df['prevailing_wage'],bins=40)\n",
    "\n",
    "plt.title(\"HISTOGRAM\")\n",
    "plt.xlabel(\"class interval\")\n",
    "plt.ylabel(\"count\")\n",
    "\n",
    "plt.subplot(1,3,2)\n",
    "plt.hist(df['yr_of_estab'],bins=40)\n",
    "\n",
    "plt.title(\"HISTOGRAM\")\n",
    "plt.xlabel(\"class interval\")\n",
    "plt.ylabel(\"count\")\n",
    "\n",
    "plt.subplot(1,3,3)\n",
    "plt.hist(df['no_of_employees'],bins=40)\n",
    "\n",
    "plt.title(\"HISTOGRAM\")\n",
    "plt.xlabel(\"class interval\")\n",
    "plt.ylabel(\"count\")"
   ]
  },
  {
   "cell_type": "code",
   "execution_count": 70,
   "id": "5878a769",
   "metadata": {},
   "outputs": [
    {
     "data": {
      "text/plain": [
       "(array([6038., 5504., 5681., 4551., 2334.,  624.,  373.,  240.,  114.,\n",
       "          21.]),\n",
       " array([2.13670000e+00, 3.19229500e+04, 6.38437634e+04, 9.57645767e+04,\n",
       "        1.27685390e+05, 1.59606203e+05, 1.91527017e+05, 2.23447830e+05,\n",
       "        2.55368643e+05, 2.87289457e+05, 3.19210270e+05]),\n",
       " <BarContainer object of 10 artists>)"
      ]
     },
     "execution_count": 70,
     "metadata": {},
     "output_type": "execute_result"
    },
    {
     "data": {
      "image/png": "[encoded data removed]",
      "text/plain": [
       "<Figure size 640x480 with 1 Axes>"
      ]
     },
     "metadata": {},
     "output_type": "display_data"
    }
   ],
   "source": [
    "len(cols)\n",
    "cols\n",
    "plt.hist(df['prevailing_wage'],bins=10)"
   ]
  },
  {
   "cell_type": "code",
   "execution_count": 71,
   "id": "e388a549",
   "metadata": {},
   "outputs": [
    {
     "data": {
      "image/png": "[encoded data removed]",
      "text/plain": [
       "<Figure size 1800x300 with 3 Axes>"
      ]
     },
     "metadata": {},
     "output_type": "display_data"
    }
   ],
   "source": [
    "import matplotlib.pyplot as plt\n",
    "\n",
    "plt.figure(figsize=(18, 3))  \n",
    "\n",
    "for i in range(len(cols)):\n",
    "    plt.subplot(1,len(cols),i + 1)\n",
    "    plt.hist(df[cols[i]],bins=10)\n",
    "    plt.title(f\"Histogram of {cols[i]}\")\n",
    "    plt.xlabel(\"class interval\")\n",
    "    plt.ylabel(\"count\")\n",
    "\n",
    " \n",
    "\n"
   ]
  },
  {
   "cell_type": "markdown",
   "id": "ea5b5469",
   "metadata": {},
   "source": [
    "# **Histogram using seaborn**"
   ]
  },
  {
   "cell_type": "markdown",
   "id": "53c38ef7",
   "metadata": {},
   "source": [
    "# -histplot\n",
    "\n",
    "-distplot\n"
   ]
  },
  {
   "cell_type": "code",
   "execution_count": 74,
   "id": "20a56307",
   "metadata": {},
   "outputs": [],
   "source": [
    "import seaborn as histplot\n",
    "import seaborn as distplot"
   ]
  },
  {
   "cell_type": "code",
   "execution_count": 75,
   "id": "26a38aa8",
   "metadata": {},
   "outputs": [
    {
     "data": {
      "text/plain": [
       "<AxesSubplot:xlabel='prevailing_wage', ylabel='Count'>"
      ]
     },
     "execution_count": 75,
     "metadata": {},
     "output_type": "execute_result"
    },
    {
     "data": {
      "image/png": "[encoded data removed]",
      "text/plain": [
       "<Figure size 640x480 with 1 Axes>"
      ]
     },
     "metadata": {},
     "output_type": "display_data"
    }
   ],
   "source": [
    "sns.histplot(df['prevailing_wage'])"
   ]
  },
  {
   "cell_type": "code",
   "execution_count": 76,
   "id": "a4910a26",
   "metadata": {},
   "outputs": [
    {
     "data": {
      "text/plain": [
       "<AxesSubplot:xlabel='prevailing_wage', ylabel='Density'>"
      ]
     },
     "execution_count": 76,
     "metadata": {},
     "output_type": "execute_result"
    },
    {
     "data": {
      "image/png": "[encoded data removed]",
      "text/plain": [
       "<Figure size 640x480 with 1 Axes>"
      ]
     },
     "metadata": {},
     "output_type": "display_data"
    }
   ],
   "source": [
    "import warnings\n",
    "warnings.filterwarnings(\"ignore\")\n",
    "sns.distplot(df['prevailing_wage'])"
   ]
  },
  {
   "cell_type": "code",
   "execution_count": 77,
   "id": "36e2b8de",
   "metadata": {},
   "outputs": [
    {
     "data": {
      "text/plain": [
       "(array([  164.,   341.,   522.,   705.,   601.,   836.,   977.,  1818.,\n",
       "         5424., 14092.]),\n",
       " array([1800. , 1821.6, 1843.2, 1864.8, 1886.4, 1908. , 1929.6, 1951.2,\n",
       "        1972.8, 1994.4, 2016. ]),\n",
       " <BarContainer object of 10 artists>)"
      ]
     },
     "execution_count": 77,
     "metadata": {},
     "output_type": "execute_result"
    },
    {
     "data": {
      "image/png": "[encoded data removed]",
      "text/plain": [
       "<Figure size 640x480 with 1 Axes>"
      ]
     },
     "metadata": {},
     "output_type": "display_data"
    }
   ],
   "source": [
    "plt.hist(df['yr_of_estab'])"
   ]
  },
  {
   "cell_type": "code",
   "execution_count": 78,
   "id": "eeedd5ee",
   "metadata": {},
   "outputs": [
    {
     "data": {
      "text/plain": [
       "(array([  46.,   18.,    0.,  100.,   13.,   37.,   47.,  244.,   94.,\n",
       "         128.,  226.,   74.,  195.,  169.,  110.,  231.,  161.,  150.,\n",
       "         173.,  117.,  290.,  116.,  224.,  206.,  162.,  202.,  122.,\n",
       "         491.,  231.,  293.,  482.,  812., 1009.,  935., 1475., 2005.,\n",
       "        3623., 4769., 3895., 1805.]),\n",
       " array([1800. , 1805.4, 1810.8, 1816.2, 1821.6, 1827. , 1832.4, 1837.8,\n",
       "        1843.2, 1848.6, 1854. , 1859.4, 1864.8, 1870.2, 1875.6, 1881. ,\n",
       "        1886.4, 1891.8, 1897.2, 1902.6, 1908. , 1913.4, 1918.8, 1924.2,\n",
       "        1929.6, 1935. , 1940.4, 1945.8, 1951.2, 1956.6, 1962. , 1967.4,\n",
       "        1972.8, 1978.2, 1983.6, 1989. , 1994.4, 1999.8, 2005.2, 2010.6,\n",
       "        2016. ]),\n",
       " <BarContainer object of 40 artists>)"
      ]
     },
     "execution_count": 78,
     "metadata": {},
     "output_type": "execute_result"
    },
    {
     "data": {
      "image/png": "[encoded data removed]",
      "text/plain": [
       "<Figure size 640x480 with 1 Axes>"
      ]
     },
     "metadata": {},
     "output_type": "display_data"
    }
   ],
   "source": [
    "plt.hist(df['yr_of_estab'],bins=40)"
   ]
  },
  {
   "cell_type": "code",
   "execution_count": 83,
   "id": "1c7d41a1",
   "metadata": {},
   "outputs": [
    {
     "data": {
      "text/plain": [
       "341"
      ]
     },
     "execution_count": 83,
     "metadata": {},
     "output_type": "execute_result"
    }
   ],
   "source": [
    "v1=df['yr_of_estab']>1821.6\n",
    "v2=df['yr_of_estab']<1843.2\n",
    "\n",
    "count1=len(df[v1 & v2])\n",
    "\n",
    "count1"
   ]
  },
  {
   "cell_type": "code",
   "execution_count": 85,
   "id": "b37f2e0b",
   "metadata": {},
   "outputs": [
    {
     "name": "stdout",
     "output_type": "stream",
     "text": [
      "<BarContainer object of 40 artists>\n"
     ]
    },
    {
     "data": {
      "image/png": "[encoded data removed]",
      "text/plain": [
       "<Figure size 640x480 with 1 Axes>"
      ]
     },
     "metadata": {},
     "output_type": "display_data"
    }
   ],
   "source": [
    "f,i,n=plt.hist(df['yr_of_estab'],bins=40)\n",
    "print(n)"
   ]
  },
  {
   "cell_type": "code",
   "execution_count": 87,
   "id": "30443943",
   "metadata": {},
   "outputs": [
    {
     "data": {
      "image/png": "[encoded data removed]",
      "text/plain": [
       "<Figure size 640x480 with 1 Axes>"
      ]
     },
     "metadata": {},
     "output_type": "display_data"
    }
   ],
   "source": [
    "plt.hist(df['yr_of_estab'])\n",
    "plt.title(\"HISTOGRAM\")\n",
    "plt.xlabel(\"years\")\n",
    "plt.ylabel(\"count\")\n",
    "plt.show()"
   ]
  },
  {
   "cell_type": "code",
   "execution_count": 88,
   "id": "145e7c19",
   "metadata": {},
   "outputs": [
    {
     "data": {
      "text/plain": [
       "(array([2.497e+04, 3.410e+02, 9.300e+01, 1.900e+01, 2.200e+01, 1.000e+01,\n",
       "        1.300e+01, 5.000e+00, 2.000e+00, 5.000e+00]),\n",
       " array([-2.600000e+01,  6.018350e+04,  1.203930e+05,  1.806025e+05,\n",
       "         2.408120e+05,  3.010215e+05,  3.612310e+05,  4.214405e+05,\n",
       "         4.816500e+05,  5.418595e+05,  6.020690e+05]),\n",
       " <BarContainer object of 10 artists>)"
      ]
     },
     "execution_count": 88,
     "metadata": {},
     "output_type": "execute_result"
    },
    {
     "data": {
      "image/png": "[encoded data removed]",
      "text/plain": [
       "<Figure size 640x480 with 1 Axes>"
      ]
     },
     "metadata": {},
     "output_type": "display_data"
    }
   ],
   "source": [
    "plt.hist(df['no_of_employees'])"
   ]
  },
  {
   "cell_type": "code",
   "execution_count": 89,
   "id": "aa7b7ce9",
   "metadata": {},
   "outputs": [
    {
     "data": {
      "text/plain": [
       "24963"
      ]
     },
     "execution_count": 89,
     "metadata": {},
     "output_type": "execute_result"
    }
   ],
   "source": [
    "v1=df['no_of_employees']>-2.600000e+01\n",
    "v2=df['no_of_employees']<6.018350e+04\n",
    "v1,v2\n",
    "\n",
    "count2=len(df[v1 & v2])\n",
    "\n",
    "count2"
   ]
  },
  {
   "cell_type": "code",
   "execution_count": 90,
   "id": "13eb4b6d",
   "metadata": {},
   "outputs": [
    {
     "data": {
      "text/plain": [
       "(array([2.3733e+04, 3.9600e+02, 2.1400e+02, 2.1600e+02, 1.5800e+02,\n",
       "        9.5000e+01, 3.6000e+01, 4.8000e+01, 3.5000e+01, 3.9000e+01,\n",
       "        3.0000e+01, 4.2000e+01, 3.6000e+01, 3.3000e+01, 4.0000e+01,\n",
       "        4.1000e+01, 2.9000e+01, 3.7000e+01, 3.0000e+01, 2.3000e+01,\n",
       "        1.9000e+01, 2.6000e+01, 1.2000e+01, 1.2000e+01, 1.0000e+01,\n",
       "        6.0000e+00, 3.0000e+00, 3.0000e+00, 2.0000e+00, 0.0000e+00,\n",
       "        1.0000e+00, 3.0000e+00, 3.0000e+00, 0.0000e+00, 3.0000e+00,\n",
       "        3.0000e+00, 2.0000e+00, 1.0000e+00, 1.0000e+00, 2.0000e+00,\n",
       "        3.0000e+00, 6.0000e+00, 3.0000e+00, 1.0000e+00, 3.0000e+00,\n",
       "        0.0000e+00, 1.0000e+00, 2.0000e+00, 0.0000e+00, 3.0000e+00,\n",
       "        0.0000e+00, 2.0000e+00, 1.0000e+00, 0.0000e+00, 1.0000e+00,\n",
       "        0.0000e+00, 2.0000e+00, 2.0000e+00, 0.0000e+00, 2.0000e+00,\n",
       "        2.0000e+00, 2.0000e+00, 1.0000e+00, 0.0000e+00, 2.0000e+00,\n",
       "        1.0000e+00, 1.0000e+00, 2.0000e+00, 1.0000e+00, 1.0000e+00,\n",
       "        0.0000e+00, 1.0000e+00, 1.0000e+00, 0.0000e+00, 0.0000e+00,\n",
       "        1.0000e+00, 2.0000e+00, 0.0000e+00, 0.0000e+00, 0.0000e+00,\n",
       "        0.0000e+00, 0.0000e+00, 0.0000e+00, 1.0000e+00, 0.0000e+00,\n",
       "        0.0000e+00, 1.0000e+00, 0.0000e+00, 0.0000e+00, 0.0000e+00,\n",
       "        1.0000e+00, 0.0000e+00, 0.0000e+00, 0.0000e+00, 0.0000e+00,\n",
       "        0.0000e+00, 2.0000e+00, 0.0000e+00, 1.0000e+00, 1.0000e+00]),\n",
       " array([-2.6000000e+01,  5.9949500e+03,  1.2015900e+04,  1.8036850e+04,\n",
       "         2.4057800e+04,  3.0078750e+04,  3.6099700e+04,  4.2120650e+04,\n",
       "         4.8141600e+04,  5.4162550e+04,  6.0183500e+04,  6.6204450e+04,\n",
       "         7.2225400e+04,  7.8246350e+04,  8.4267300e+04,  9.0288250e+04,\n",
       "         9.6309200e+04,  1.0233015e+05,  1.0835110e+05,  1.1437205e+05,\n",
       "         1.2039300e+05,  1.2641395e+05,  1.3243490e+05,  1.3845585e+05,\n",
       "         1.4447680e+05,  1.5049775e+05,  1.5651870e+05,  1.6253965e+05,\n",
       "         1.6856060e+05,  1.7458155e+05,  1.8060250e+05,  1.8662345e+05,\n",
       "         1.9264440e+05,  1.9866535e+05,  2.0468630e+05,  2.1070725e+05,\n",
       "         2.1672820e+05,  2.2274915e+05,  2.2877010e+05,  2.3479105e+05,\n",
       "         2.4081200e+05,  2.4683295e+05,  2.5285390e+05,  2.5887485e+05,\n",
       "         2.6489580e+05,  2.7091675e+05,  2.7693770e+05,  2.8295865e+05,\n",
       "         2.8897960e+05,  2.9500055e+05,  3.0102150e+05,  3.0704245e+05,\n",
       "         3.1306340e+05,  3.1908435e+05,  3.2510530e+05,  3.3112625e+05,\n",
       "         3.3714720e+05,  3.4316815e+05,  3.4918910e+05,  3.5521005e+05,\n",
       "         3.6123100e+05,  3.6725195e+05,  3.7327290e+05,  3.7929385e+05,\n",
       "         3.8531480e+05,  3.9133575e+05,  3.9735670e+05,  4.0337765e+05,\n",
       "         4.0939860e+05,  4.1541955e+05,  4.2144050e+05,  4.2746145e+05,\n",
       "         4.3348240e+05,  4.3950335e+05,  4.4552430e+05,  4.5154525e+05,\n",
       "         4.5756620e+05,  4.6358715e+05,  4.6960810e+05,  4.7562905e+05,\n",
       "         4.8165000e+05,  4.8767095e+05,  4.9369190e+05,  4.9971285e+05,\n",
       "         5.0573380e+05,  5.1175475e+05,  5.1777570e+05,  5.2379665e+05,\n",
       "         5.2981760e+05,  5.3583855e+05,  5.4185950e+05,  5.4788045e+05,\n",
       "         5.5390140e+05,  5.5992235e+05,  5.6594330e+05,  5.7196425e+05,\n",
       "         5.7798520e+05,  5.8400615e+05,  5.9002710e+05,  5.9604805e+05,\n",
       "         6.0206900e+05]),\n",
       " <BarContainer object of 100 artists>)"
      ]
     },
     "execution_count": 90,
     "metadata": {},
     "output_type": "execute_result"
    },
    {
     "data": {
      "image/png": "[encoded data removed]",
      "text/plain": [
       "<Figure size 640x480 with 1 Axes>"
      ]
     },
     "metadata": {},
     "output_type": "display_data"
    }
   ],
   "source": [
    "plt.hist(df['no_of_employees'],bins=100)"
   ]
  },
  {
   "cell_type": "code",
   "execution_count": 91,
   "id": "79b0817b",
   "metadata": {},
   "outputs": [
    {
     "name": "stdout",
     "output_type": "stream",
     "text": [
      "<BarContainer object of 100 artists>\n"
     ]
    },
    {
     "data": {
      "image/png": "[encoded data removed]",
      "text/plain": [
       "<Figure size 640x480 with 1 Axes>"
      ]
     },
     "metadata": {},
     "output_type": "display_data"
    }
   ],
   "source": [
    "f,i,n=plt.hist(df['no_of_employees'],bins=100)\n",
    "print(n)"
   ]
  },
  {
   "cell_type": "code",
   "execution_count": 92,
   "id": "0256b469",
   "metadata": {},
   "outputs": [
    {
     "data": {
      "image/png": "[encoded data removed]",
      "text/plain": [
       "<Figure size 640x480 with 1 Axes>"
      ]
     },
     "metadata": {},
     "output_type": "display_data"
    }
   ],
   "source": [
    "plt.hist(df['no_of_employees'])\n",
    "plt.title(\"HISTOGRAM\")\n",
    "plt.xlabel(\"employees\")\n",
    "plt.ylabel(\"count\")\n",
    "plt.show()"
   ]
  },
  {
   "cell_type": "code",
   "execution_count": null,
   "id": "25963692",
   "metadata": {},
   "outputs": [],
   "source": []
  }
 ],
 "metadata": {
  "kernelspec": {
   "display_name": "Python 3 (ipykernel)",
   "language": "python",
   "name": "python3"
  },
  "language_info": {
   "codemirror_mode": {
    "name": "ipython",
    "version": 3
   },
   "file_extension": ".py",
   "mimetype": "text/x-python",
   "name": "python",
   "nbconvert_exporter": "python",
   "pygments_lexer": "ipython3",
   "version": "3.9.13"
  }
 },
 "nbformat": 4,
 "nbformat_minor": 5
}
