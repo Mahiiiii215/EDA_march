{
 "cells": [
  {
   "cell_type": "code",
   "execution_count": 1,
   "id": "0456fea5",
   "metadata": {},
   "outputs": [],
   "source": [
    "import pandas as pd\n",
    "import numpy as np"
   ]
  },
  {
   "cell_type": "code",
   "execution_count": 2,
   "id": "0fe7e9a0",
   "metadata": {},
   "outputs": [
    {
     "data": {
      "text/plain": [
       "{'Names': ['Aryan', 'Rishi', 'Abhi', nan, 'Siri'],\n",
       " 'Age': [nan, 13, 12, 10, 20],\n",
       " 'City': ['Hyd', 'Blr', 'Chn', 'Tpt', nan]}"
      ]
     },
     "execution_count": 2,
     "metadata": {},
     "output_type": "execute_result"
    }
   ],
   "source": [
    "dict1={'Names':['Aryan','Rishi','Abhi',np.nan,'Siri'],\n",
    "       'Age':[np.nan,13,12,10,20],\n",
    "        'City':['Hyd','Blr','Chn','Tpt',np.nan]}\n",
    "dict1"
   ]
  },
  {
   "cell_type": "code",
   "execution_count": 4,
   "id": "3cda891b",
   "metadata": {},
   "outputs": [],
   "source": [
    "d1=pd.DataFrame(dict1)"
   ]
  },
  {
   "cell_type": "code",
   "execution_count": 5,
   "id": "2206b7f9",
   "metadata": {},
   "outputs": [
    {
     "data": {
      "text/plain": [
       "Names     object\n",
       "Age      float64\n",
       "City      object\n",
       "dtype: object"
      ]
     },
     "execution_count": 5,
     "metadata": {},
     "output_type": "execute_result"
    }
   ],
   "source": [
    "d1.dtypes"
   ]
  },
  {
   "cell_type": "code",
   "execution_count": 9,
   "id": "4828e35c",
   "metadata": {},
   "outputs": [],
   "source": [
    "dict2={'Names':['Aryan','Rishi','Abhi','None','Siri'],\n",
    "       'Age':[np.nan,13,12,10,20],\n",
    "        'City':['Hyd','Blr','Chn','Tpt','None']}\n",
    "d2=pd.DataFrame(dict2)"
   ]
  },
  {
   "cell_type": "code",
   "execution_count": 10,
   "id": "cad74fe8",
   "metadata": {},
   "outputs": [
    {
     "data": {
      "text/plain": [
       "Names     object\n",
       "Age      float64\n",
       "City      object\n",
       "dtype: object"
      ]
     },
     "execution_count": 10,
     "metadata": {},
     "output_type": "execute_result"
    }
   ],
   "source": [
    "d2.dtypes"
   ]
  },
  {
   "cell_type": "code",
   "execution_count": 11,
   "id": "2439fc7e",
   "metadata": {},
   "outputs": [
    {
     "data": {
      "text/html": [
       "<div>\n",
       "<style scoped>\n",
       "    .dataframe tbody tr th:only-of-type {\n",
       "        vertical-align: middle;\n",
       "    }\n",
       "\n",
       "    .dataframe tbody tr th {\n",
       "        vertical-align: top;\n",
       "    }\n",
       "\n",
       "    .dataframe thead th {\n",
       "        text-align: right;\n",
       "    }\n",
       "</style>\n",
       "<table border=\"1\" class=\"dataframe\">\n",
       "  <thead>\n",
       "    <tr style=\"text-align: right;\">\n",
       "      <th></th>\n",
       "      <th>Names</th>\n",
       "      <th>Age</th>\n",
       "      <th>City</th>\n",
       "    </tr>\n",
       "  </thead>\n",
       "  <tbody>\n",
       "    <tr>\n",
       "      <th>0</th>\n",
       "      <td>False</td>\n",
       "      <td>True</td>\n",
       "      <td>False</td>\n",
       "    </tr>\n",
       "    <tr>\n",
       "      <th>1</th>\n",
       "      <td>False</td>\n",
       "      <td>False</td>\n",
       "      <td>False</td>\n",
       "    </tr>\n",
       "    <tr>\n",
       "      <th>2</th>\n",
       "      <td>False</td>\n",
       "      <td>False</td>\n",
       "      <td>False</td>\n",
       "    </tr>\n",
       "    <tr>\n",
       "      <th>3</th>\n",
       "      <td>True</td>\n",
       "      <td>False</td>\n",
       "      <td>False</td>\n",
       "    </tr>\n",
       "    <tr>\n",
       "      <th>4</th>\n",
       "      <td>False</td>\n",
       "      <td>False</td>\n",
       "      <td>True</td>\n",
       "    </tr>\n",
       "  </tbody>\n",
       "</table>\n",
       "</div>"
      ],
      "text/plain": [
       "   Names    Age   City\n",
       "0  False   True  False\n",
       "1  False  False  False\n",
       "2  False  False  False\n",
       "3   True  False  False\n",
       "4  False  False   True"
      ]
     },
     "execution_count": 11,
     "metadata": {},
     "output_type": "execute_result"
    }
   ],
   "source": [
    "d1.isnull()"
   ]
  },
  {
   "cell_type": "code",
   "execution_count": 13,
   "id": "d3ff21cf",
   "metadata": {},
   "outputs": [
    {
     "data": {
      "text/plain": [
       "Names    1\n",
       "Age      1\n",
       "City     1\n",
       "dtype: int64"
      ]
     },
     "execution_count": 13,
     "metadata": {},
     "output_type": "execute_result"
    }
   ],
   "source": [
    "d1.isnull().sum()"
   ]
  },
  {
   "cell_type": "code",
   "execution_count": 14,
   "id": "9ad7e880",
   "metadata": {},
   "outputs": [
    {
     "data": {
      "text/plain": [
       "Names    20.0\n",
       "Age      20.0\n",
       "City     20.0\n",
       "dtype: float64"
      ]
     },
     "execution_count": 14,
     "metadata": {},
     "output_type": "execute_result"
    }
   ],
   "source": [
    "d1.isnull().sum()*100/len(d1)"
   ]
  },
  {
   "cell_type": "markdown",
   "id": "2208eebf",
   "metadata": {},
   "source": [
    "- np.nan : not a number this applicable for numerical columns only"
   ]
  },
  {
   "cell_type": "markdown",
   "id": "7d03a5d6",
   "metadata": {},
   "source": [
    "- Generally data has some empty rows\n",
    "\n",
    "- It is a data problem\n",
    "\n",
    "- If you read that kind of data you will see Null\n",
    "\n",
    "- You need to understand it is a data corrupted or ready a Null values are there"
   ]
  },
  {
   "cell_type": "markdown",
   "id": "24b4d03b",
   "metadata": {},
   "source": [
    "**Method-1**\n",
    "\n",
    "**Fill with some random values**\n",
    "\n",
    "**Method name**:fill na"
   ]
  },
  {
   "cell_type": "code",
   "execution_count": 15,
   "id": "b1d67e0a",
   "metadata": {},
   "outputs": [
    {
     "data": {
      "text/html": [
       "<div>\n",
       "<style scoped>\n",
       "    .dataframe tbody tr th:only-of-type {\n",
       "        vertical-align: middle;\n",
       "    }\n",
       "\n",
       "    .dataframe tbody tr th {\n",
       "        vertical-align: top;\n",
       "    }\n",
       "\n",
       "    .dataframe thead th {\n",
       "        text-align: right;\n",
       "    }\n",
       "</style>\n",
       "<table border=\"1\" class=\"dataframe\">\n",
       "  <thead>\n",
       "    <tr style=\"text-align: right;\">\n",
       "      <th></th>\n",
       "      <th>Names</th>\n",
       "      <th>Age</th>\n",
       "      <th>City</th>\n",
       "    </tr>\n",
       "  </thead>\n",
       "  <tbody>\n",
       "    <tr>\n",
       "      <th>0</th>\n",
       "      <td>Aryan</td>\n",
       "      <td>40.0</td>\n",
       "      <td>Hyd</td>\n",
       "    </tr>\n",
       "    <tr>\n",
       "      <th>1</th>\n",
       "      <td>Rishi</td>\n",
       "      <td>13.0</td>\n",
       "      <td>Blr</td>\n",
       "    </tr>\n",
       "    <tr>\n",
       "      <th>2</th>\n",
       "      <td>Abhi</td>\n",
       "      <td>12.0</td>\n",
       "      <td>Chn</td>\n",
       "    </tr>\n",
       "    <tr>\n",
       "      <th>3</th>\n",
       "      <td>40</td>\n",
       "      <td>10.0</td>\n",
       "      <td>Tpt</td>\n",
       "    </tr>\n",
       "    <tr>\n",
       "      <th>4</th>\n",
       "      <td>Siri</td>\n",
       "      <td>20.0</td>\n",
       "      <td>40</td>\n",
       "    </tr>\n",
       "  </tbody>\n",
       "</table>\n",
       "</div>"
      ],
      "text/plain": [
       "   Names   Age City\n",
       "0  Aryan  40.0  Hyd\n",
       "1  Rishi  13.0  Blr\n",
       "2   Abhi  12.0  Chn\n",
       "3     40  10.0  Tpt\n",
       "4   Siri  20.0   40"
      ]
     },
     "execution_count": 15,
     "metadata": {},
     "output_type": "execute_result"
    }
   ],
   "source": [
    "d1.fillna(40)"
   ]
  },
  {
   "cell_type": "markdown",
   "id": "3667d586",
   "metadata": {},
   "source": [
    "**Method-2**\n",
    "\n",
    "- We can fill the output with w.r.t columns also"
   ]
  },
  {
   "cell_type": "code",
   "execution_count": 17,
   "id": "cd0a4a25",
   "metadata": {},
   "outputs": [
    {
     "data": {
      "text/html": [
       "<div>\n",
       "<style scoped>\n",
       "    .dataframe tbody tr th:only-of-type {\n",
       "        vertical-align: middle;\n",
       "    }\n",
       "\n",
       "    .dataframe tbody tr th {\n",
       "        vertical-align: top;\n",
       "    }\n",
       "\n",
       "    .dataframe thead th {\n",
       "        text-align: right;\n",
       "    }\n",
       "</style>\n",
       "<table border=\"1\" class=\"dataframe\">\n",
       "  <thead>\n",
       "    <tr style=\"text-align: right;\">\n",
       "      <th></th>\n",
       "      <th>Names</th>\n",
       "      <th>Age</th>\n",
       "      <th>City</th>\n",
       "    </tr>\n",
       "  </thead>\n",
       "  <tbody>\n",
       "    <tr>\n",
       "      <th>0</th>\n",
       "      <td>Aryan</td>\n",
       "      <td>10.0</td>\n",
       "      <td>Hyd</td>\n",
       "    </tr>\n",
       "    <tr>\n",
       "      <th>1</th>\n",
       "      <td>Rishi</td>\n",
       "      <td>13.0</td>\n",
       "      <td>Blr</td>\n",
       "    </tr>\n",
       "    <tr>\n",
       "      <th>2</th>\n",
       "      <td>Abhi</td>\n",
       "      <td>12.0</td>\n",
       "      <td>Chn</td>\n",
       "    </tr>\n",
       "    <tr>\n",
       "      <th>3</th>\n",
       "      <td>NaN</td>\n",
       "      <td>10.0</td>\n",
       "      <td>Tpt</td>\n",
       "    </tr>\n",
       "    <tr>\n",
       "      <th>4</th>\n",
       "      <td>Siri</td>\n",
       "      <td>20.0</td>\n",
       "      <td>NaN</td>\n",
       "    </tr>\n",
       "  </tbody>\n",
       "</table>\n",
       "</div>"
      ],
      "text/plain": [
       "   Names   Age City\n",
       "0  Aryan  10.0  Hyd\n",
       "1  Rishi  13.0  Blr\n",
       "2   Abhi  12.0  Chn\n",
       "3    NaN  10.0  Tpt\n",
       "4   Siri  20.0  NaN"
      ]
     },
     "execution_count": 17,
     "metadata": {},
     "output_type": "execute_result"
    }
   ],
   "source": [
    "d1['Age']=d1['Age'].fillna(10)\n",
    "d1"
   ]
  },
  {
   "cell_type": "code",
   "execution_count": 18,
   "id": "c27271c1",
   "metadata": {},
   "outputs": [
    {
     "data": {
      "text/plain": [
       "0    10.0\n",
       "1    13.0\n",
       "2    12.0\n",
       "3    10.0\n",
       "4    20.0\n",
       "Name: Age, dtype: float64"
      ]
     },
     "execution_count": 18,
     "metadata": {},
     "output_type": "execute_result"
    }
   ],
   "source": [
    "d1['Age'].fillna(10)\n",
    "\n",
    "# Here if we print d1 it will not get updated\n",
    "\n",
    "# inplace=False"
   ]
  },
  {
   "cell_type": "code",
   "execution_count": 19,
   "id": "4dd97b80",
   "metadata": {},
   "outputs": [
    {
     "data": {
      "text/html": [
       "<div>\n",
       "<style scoped>\n",
       "    .dataframe tbody tr th:only-of-type {\n",
       "        vertical-align: middle;\n",
       "    }\n",
       "\n",
       "    .dataframe tbody tr th {\n",
       "        vertical-align: top;\n",
       "    }\n",
       "\n",
       "    .dataframe thead th {\n",
       "        text-align: right;\n",
       "    }\n",
       "</style>\n",
       "<table border=\"1\" class=\"dataframe\">\n",
       "  <thead>\n",
       "    <tr style=\"text-align: right;\">\n",
       "      <th></th>\n",
       "      <th>Names</th>\n",
       "      <th>Age</th>\n",
       "      <th>City</th>\n",
       "    </tr>\n",
       "  </thead>\n",
       "  <tbody>\n",
       "    <tr>\n",
       "      <th>0</th>\n",
       "      <td>Aryan</td>\n",
       "      <td>10.0</td>\n",
       "      <td>Hyd</td>\n",
       "    </tr>\n",
       "    <tr>\n",
       "      <th>1</th>\n",
       "      <td>Rishi</td>\n",
       "      <td>13.0</td>\n",
       "      <td>Blr</td>\n",
       "    </tr>\n",
       "    <tr>\n",
       "      <th>2</th>\n",
       "      <td>Abhi</td>\n",
       "      <td>12.0</td>\n",
       "      <td>Chn</td>\n",
       "    </tr>\n",
       "    <tr>\n",
       "      <th>3</th>\n",
       "      <td>NaN</td>\n",
       "      <td>10.0</td>\n",
       "      <td>Tpt</td>\n",
       "    </tr>\n",
       "    <tr>\n",
       "      <th>4</th>\n",
       "      <td>Siri</td>\n",
       "      <td>20.0</td>\n",
       "      <td>NaN</td>\n",
       "    </tr>\n",
       "  </tbody>\n",
       "</table>\n",
       "</div>"
      ],
      "text/plain": [
       "   Names   Age City\n",
       "0  Aryan  10.0  Hyd\n",
       "1  Rishi  13.0  Blr\n",
       "2   Abhi  12.0  Chn\n",
       "3    NaN  10.0  Tpt\n",
       "4   Siri  20.0  NaN"
      ]
     },
     "execution_count": 19,
     "metadata": {},
     "output_type": "execute_result"
    }
   ],
   "source": [
    "d1['Age'].fillna(10,inplace=True)\n",
    "d1"
   ]
  },
  {
   "cell_type": "code",
   "execution_count": 22,
   "id": "6d029f7b",
   "metadata": {},
   "outputs": [],
   "source": [
    "d1['Names'].fillna('proya',inplace=True)"
   ]
  },
  {
   "cell_type": "code",
   "execution_count": 23,
   "id": "4125e70d",
   "metadata": {},
   "outputs": [
    {
     "data": {
      "text/html": [
       "<div>\n",
       "<style scoped>\n",
       "    .dataframe tbody tr th:only-of-type {\n",
       "        vertical-align: middle;\n",
       "    }\n",
       "\n",
       "    .dataframe tbody tr th {\n",
       "        vertical-align: top;\n",
       "    }\n",
       "\n",
       "    .dataframe thead th {\n",
       "        text-align: right;\n",
       "    }\n",
       "</style>\n",
       "<table border=\"1\" class=\"dataframe\">\n",
       "  <thead>\n",
       "    <tr style=\"text-align: right;\">\n",
       "      <th></th>\n",
       "      <th>Names</th>\n",
       "      <th>Age</th>\n",
       "      <th>City</th>\n",
       "    </tr>\n",
       "  </thead>\n",
       "  <tbody>\n",
       "    <tr>\n",
       "      <th>0</th>\n",
       "      <td>Aryan</td>\n",
       "      <td>10.0</td>\n",
       "      <td>Hyd</td>\n",
       "    </tr>\n",
       "    <tr>\n",
       "      <th>1</th>\n",
       "      <td>Rishi</td>\n",
       "      <td>13.0</td>\n",
       "      <td>Blr</td>\n",
       "    </tr>\n",
       "    <tr>\n",
       "      <th>2</th>\n",
       "      <td>Abhi</td>\n",
       "      <td>12.0</td>\n",
       "      <td>Chn</td>\n",
       "    </tr>\n",
       "    <tr>\n",
       "      <th>3</th>\n",
       "      <td>proya</td>\n",
       "      <td>10.0</td>\n",
       "      <td>Tpt</td>\n",
       "    </tr>\n",
       "    <tr>\n",
       "      <th>4</th>\n",
       "      <td>Siri</td>\n",
       "      <td>20.0</td>\n",
       "      <td>NaN</td>\n",
       "    </tr>\n",
       "  </tbody>\n",
       "</table>\n",
       "</div>"
      ],
      "text/plain": [
       "   Names   Age City\n",
       "0  Aryan  10.0  Hyd\n",
       "1  Rishi  13.0  Blr\n",
       "2   Abhi  12.0  Chn\n",
       "3  proya  10.0  Tpt\n",
       "4   Siri  20.0  NaN"
      ]
     },
     "execution_count": 23,
     "metadata": {},
     "output_type": "execute_result"
    }
   ],
   "source": [
    "d1"
   ]
  },
  {
   "cell_type": "code",
   "execution_count": 24,
   "id": "ce685c53",
   "metadata": {},
   "outputs": [],
   "source": [
    "dict1={'Names':['Aryan','Rishi','Abhi',np.nan,'Siri'],\n",
    "       'Age':[np.nan,13,12,10,20],\n",
    "        'City':['Hyd','Blr','Chn','Tpt',np.nan]}\n",
    "\n",
    "d1=pd.DataFrame(dict1)"
   ]
  },
  {
   "cell_type": "markdown",
   "id": "c8054c56",
   "metadata": {},
   "source": [
    "**Method-3**\n",
    "\n",
    "- bfill\n",
    "\n",
    "- ffill\n",
    "\n",
    "- pad\n",
    "\n",
    "- backfill"
   ]
  },
  {
   "cell_type": "code",
   "execution_count": 25,
   "id": "fd3648db",
   "metadata": {},
   "outputs": [
    {
     "data": {
      "text/html": [
       "<div>\n",
       "<style scoped>\n",
       "    .dataframe tbody tr th:only-of-type {\n",
       "        vertical-align: middle;\n",
       "    }\n",
       "\n",
       "    .dataframe tbody tr th {\n",
       "        vertical-align: top;\n",
       "    }\n",
       "\n",
       "    .dataframe thead th {\n",
       "        text-align: right;\n",
       "    }\n",
       "</style>\n",
       "<table border=\"1\" class=\"dataframe\">\n",
       "  <thead>\n",
       "    <tr style=\"text-align: right;\">\n",
       "      <th></th>\n",
       "      <th>Names</th>\n",
       "      <th>Age</th>\n",
       "      <th>City</th>\n",
       "    </tr>\n",
       "  </thead>\n",
       "  <tbody>\n",
       "    <tr>\n",
       "      <th>0</th>\n",
       "      <td>Aryan</td>\n",
       "      <td>13.0</td>\n",
       "      <td>Hyd</td>\n",
       "    </tr>\n",
       "    <tr>\n",
       "      <th>1</th>\n",
       "      <td>Rishi</td>\n",
       "      <td>13.0</td>\n",
       "      <td>Blr</td>\n",
       "    </tr>\n",
       "    <tr>\n",
       "      <th>2</th>\n",
       "      <td>Abhi</td>\n",
       "      <td>12.0</td>\n",
       "      <td>Chn</td>\n",
       "    </tr>\n",
       "    <tr>\n",
       "      <th>3</th>\n",
       "      <td>Siri</td>\n",
       "      <td>10.0</td>\n",
       "      <td>Tpt</td>\n",
       "    </tr>\n",
       "    <tr>\n",
       "      <th>4</th>\n",
       "      <td>Siri</td>\n",
       "      <td>20.0</td>\n",
       "      <td>NaN</td>\n",
       "    </tr>\n",
       "  </tbody>\n",
       "</table>\n",
       "</div>"
      ],
      "text/plain": [
       "   Names   Age City\n",
       "0  Aryan  13.0  Hyd\n",
       "1  Rishi  13.0  Blr\n",
       "2   Abhi  12.0  Chn\n",
       "3   Siri  10.0  Tpt\n",
       "4   Siri  20.0  NaN"
      ]
     },
     "execution_count": 25,
     "metadata": {},
     "output_type": "execute_result"
    }
   ],
   "source": [
    "d1.fillna(method='bfill')\n",
    "\n",
    "# It will fill with below value or next value\n",
    "# Column1: Names index 4 is missing values it is filled with index 3 value\n",
    "# Column2: Age index 1 is missing values it is filled with index 2 value\n",
    "# Column3: City index 4 missing value it should be filled with next value but we dont have next value"
   ]
  },
  {
   "cell_type": "code",
   "execution_count": 26,
   "id": "e9072915",
   "metadata": {},
   "outputs": [
    {
     "data": {
      "text/html": [
       "<div>\n",
       "<style scoped>\n",
       "    .dataframe tbody tr th:only-of-type {\n",
       "        vertical-align: middle;\n",
       "    }\n",
       "\n",
       "    .dataframe tbody tr th {\n",
       "        vertical-align: top;\n",
       "    }\n",
       "\n",
       "    .dataframe thead th {\n",
       "        text-align: right;\n",
       "    }\n",
       "</style>\n",
       "<table border=\"1\" class=\"dataframe\">\n",
       "  <thead>\n",
       "    <tr style=\"text-align: right;\">\n",
       "      <th></th>\n",
       "      <th>Names</th>\n",
       "      <th>Age</th>\n",
       "      <th>City</th>\n",
       "    </tr>\n",
       "  </thead>\n",
       "  <tbody>\n",
       "    <tr>\n",
       "      <th>0</th>\n",
       "      <td>Aryan</td>\n",
       "      <td>NaN</td>\n",
       "      <td>Hyd</td>\n",
       "    </tr>\n",
       "    <tr>\n",
       "      <th>1</th>\n",
       "      <td>Rishi</td>\n",
       "      <td>13.0</td>\n",
       "      <td>Blr</td>\n",
       "    </tr>\n",
       "    <tr>\n",
       "      <th>2</th>\n",
       "      <td>Abhi</td>\n",
       "      <td>12.0</td>\n",
       "      <td>Chn</td>\n",
       "    </tr>\n",
       "    <tr>\n",
       "      <th>3</th>\n",
       "      <td>Abhi</td>\n",
       "      <td>10.0</td>\n",
       "      <td>Tpt</td>\n",
       "    </tr>\n",
       "    <tr>\n",
       "      <th>4</th>\n",
       "      <td>Siri</td>\n",
       "      <td>20.0</td>\n",
       "      <td>Tpt</td>\n",
       "    </tr>\n",
       "  </tbody>\n",
       "</table>\n",
       "</div>"
      ],
      "text/plain": [
       "   Names   Age City\n",
       "0  Aryan   NaN  Hyd\n",
       "1  Rishi  13.0  Blr\n",
       "2   Abhi  12.0  Chn\n",
       "3   Abhi  10.0  Tpt\n",
       "4   Siri  20.0  Tpt"
      ]
     },
     "execution_count": 26,
     "metadata": {},
     "output_type": "execute_result"
    }
   ],
   "source": [
    "d1.fillna(method='ffill')"
   ]
  },
  {
   "cell_type": "code",
   "execution_count": 27,
   "id": "01f3a128",
   "metadata": {},
   "outputs": [
    {
     "data": {
      "text/html": [
       "<div>\n",
       "<style scoped>\n",
       "    .dataframe tbody tr th:only-of-type {\n",
       "        vertical-align: middle;\n",
       "    }\n",
       "\n",
       "    .dataframe tbody tr th {\n",
       "        vertical-align: top;\n",
       "    }\n",
       "\n",
       "    .dataframe thead th {\n",
       "        text-align: right;\n",
       "    }\n",
       "</style>\n",
       "<table border=\"1\" class=\"dataframe\">\n",
       "  <thead>\n",
       "    <tr style=\"text-align: right;\">\n",
       "      <th></th>\n",
       "      <th>Names</th>\n",
       "      <th>Age</th>\n",
       "      <th>City</th>\n",
       "    </tr>\n",
       "  </thead>\n",
       "  <tbody>\n",
       "    <tr>\n",
       "      <th>0</th>\n",
       "      <td>Aryan</td>\n",
       "      <td>NaN</td>\n",
       "      <td>Hyd</td>\n",
       "    </tr>\n",
       "    <tr>\n",
       "      <th>1</th>\n",
       "      <td>Rishi</td>\n",
       "      <td>13.0</td>\n",
       "      <td>Blr</td>\n",
       "    </tr>\n",
       "    <tr>\n",
       "      <th>2</th>\n",
       "      <td>Abhi</td>\n",
       "      <td>12.0</td>\n",
       "      <td>Chn</td>\n",
       "    </tr>\n",
       "    <tr>\n",
       "      <th>3</th>\n",
       "      <td>Abhi</td>\n",
       "      <td>10.0</td>\n",
       "      <td>Tpt</td>\n",
       "    </tr>\n",
       "    <tr>\n",
       "      <th>4</th>\n",
       "      <td>Siri</td>\n",
       "      <td>20.0</td>\n",
       "      <td>Tpt</td>\n",
       "    </tr>\n",
       "  </tbody>\n",
       "</table>\n",
       "</div>"
      ],
      "text/plain": [
       "   Names   Age City\n",
       "0  Aryan   NaN  Hyd\n",
       "1  Rishi  13.0  Blr\n",
       "2   Abhi  12.0  Chn\n",
       "3   Abhi  10.0  Tpt\n",
       "4   Siri  20.0  Tpt"
      ]
     },
     "execution_count": 27,
     "metadata": {},
     "output_type": "execute_result"
    }
   ],
   "source": [
    "d1.fillna(method='pad')"
   ]
  },
  {
   "cell_type": "code",
   "execution_count": 29,
   "id": "2f34e409",
   "metadata": {},
   "outputs": [
    {
     "data": {
      "text/html": [
       "<div>\n",
       "<style scoped>\n",
       "    .dataframe tbody tr th:only-of-type {\n",
       "        vertical-align: middle;\n",
       "    }\n",
       "\n",
       "    .dataframe tbody tr th {\n",
       "        vertical-align: top;\n",
       "    }\n",
       "\n",
       "    .dataframe thead th {\n",
       "        text-align: right;\n",
       "    }\n",
       "</style>\n",
       "<table border=\"1\" class=\"dataframe\">\n",
       "  <thead>\n",
       "    <tr style=\"text-align: right;\">\n",
       "      <th></th>\n",
       "      <th>Names</th>\n",
       "      <th>Age</th>\n",
       "      <th>City</th>\n",
       "    </tr>\n",
       "  </thead>\n",
       "  <tbody>\n",
       "    <tr>\n",
       "      <th>0</th>\n",
       "      <td>Aryan</td>\n",
       "      <td>Hyd</td>\n",
       "      <td>Hyd</td>\n",
       "    </tr>\n",
       "    <tr>\n",
       "      <th>1</th>\n",
       "      <td>Rishi</td>\n",
       "      <td>13.0</td>\n",
       "      <td>Blr</td>\n",
       "    </tr>\n",
       "    <tr>\n",
       "      <th>2</th>\n",
       "      <td>Abhi</td>\n",
       "      <td>12.0</td>\n",
       "      <td>Chn</td>\n",
       "    </tr>\n",
       "    <tr>\n",
       "      <th>3</th>\n",
       "      <td>10.0</td>\n",
       "      <td>10.0</td>\n",
       "      <td>Tpt</td>\n",
       "    </tr>\n",
       "    <tr>\n",
       "      <th>4</th>\n",
       "      <td>Siri</td>\n",
       "      <td>20.0</td>\n",
       "      <td>NaN</td>\n",
       "    </tr>\n",
       "  </tbody>\n",
       "</table>\n",
       "</div>"
      ],
      "text/plain": [
       "   Names   Age City\n",
       "0  Aryan   Hyd  Hyd\n",
       "1  Rishi  13.0  Blr\n",
       "2   Abhi  12.0  Chn\n",
       "3   10.0  10.0  Tpt\n",
       "4   Siri  20.0  NaN"
      ]
     },
     "execution_count": 29,
     "metadata": {},
     "output_type": "execute_result"
    }
   ],
   "source": [
    "d1.fillna(method='backfill',axis=1)\n",
    "\n",
    "# axis 1 means columns\n",
    "# so Nan values fill with next column values"
   ]
  },
  {
   "cell_type": "code",
   "execution_count": 30,
   "id": "54ba3202",
   "metadata": {},
   "outputs": [
    {
     "data": {
      "text/html": [
       "<div>\n",
       "<style scoped>\n",
       "    .dataframe tbody tr th:only-of-type {\n",
       "        vertical-align: middle;\n",
       "    }\n",
       "\n",
       "    .dataframe tbody tr th {\n",
       "        vertical-align: top;\n",
       "    }\n",
       "\n",
       "    .dataframe thead th {\n",
       "        text-align: right;\n",
       "    }\n",
       "</style>\n",
       "<table border=\"1\" class=\"dataframe\">\n",
       "  <thead>\n",
       "    <tr style=\"text-align: right;\">\n",
       "      <th></th>\n",
       "      <th>Names</th>\n",
       "      <th>Age</th>\n",
       "      <th>City</th>\n",
       "    </tr>\n",
       "  </thead>\n",
       "  <tbody>\n",
       "    <tr>\n",
       "      <th>0</th>\n",
       "      <td>Aryan</td>\n",
       "      <td>Aryan</td>\n",
       "      <td>Hyd</td>\n",
       "    </tr>\n",
       "    <tr>\n",
       "      <th>1</th>\n",
       "      <td>Rishi</td>\n",
       "      <td>13.0</td>\n",
       "      <td>Blr</td>\n",
       "    </tr>\n",
       "    <tr>\n",
       "      <th>2</th>\n",
       "      <td>Abhi</td>\n",
       "      <td>12.0</td>\n",
       "      <td>Chn</td>\n",
       "    </tr>\n",
       "    <tr>\n",
       "      <th>3</th>\n",
       "      <td>NaN</td>\n",
       "      <td>10.0</td>\n",
       "      <td>Tpt</td>\n",
       "    </tr>\n",
       "    <tr>\n",
       "      <th>4</th>\n",
       "      <td>Siri</td>\n",
       "      <td>20.0</td>\n",
       "      <td>20.0</td>\n",
       "    </tr>\n",
       "  </tbody>\n",
       "</table>\n",
       "</div>"
      ],
      "text/plain": [
       "   Names    Age  City\n",
       "0  Aryan  Aryan   Hyd\n",
       "1  Rishi   13.0   Blr\n",
       "2   Abhi   12.0   Chn\n",
       "3    NaN   10.0   Tpt\n",
       "4   Siri   20.0  20.0"
      ]
     },
     "execution_count": 30,
     "metadata": {},
     "output_type": "execute_result"
    }
   ],
   "source": [
    "d1.fillna(method='pad',axis=1)\n",
    "\n"
   ]
  },
  {
   "cell_type": "markdown",
   "id": "37dde674",
   "metadata": {},
   "source": [
    "- backfill and bfill fill with next value\n",
    "\n",
    "- pad and ffill fill with previous value\n",
    "\n",
    "- but it will change based on axis"
   ]
  },
  {
   "cell_type": "markdown",
   "id": "9ebfe846",
   "metadata": {},
   "source": [
    "**Method-4**\n",
    "- Mean\n",
    "   \n",
    "   - Numerical values can fill with mean value\n",
    "   \n",
    "   - but mean affect with outliers\n",
    "   \n",
    "   - if we dont have outliers it is best one\n",
    "   \n",
    "- Median\n",
    "\n",
    "   - Numerical values can fill with median value\n",
    "   \n",
    "   - we know that median values does not  affect with outliers\n",
    "   \n",
    "   - so if outliers are there we can go with median\n",
    "   \n",
    "- Mode\n",
    "\n",
    "    - Mode is used for categorical data\n",
    "   "
   ]
  },
  {
   "cell_type": "code",
   "execution_count": null,
   "id": "de54e00f",
   "metadata": {},
   "outputs": [],
   "source": [
    "dict1={'Names':['Aryan','Rishi','Abhi',np.nan,'Siri'],\n",
    "       'Age':[np.nan,13,12,10,20],\n",
    "        'City':['Hyd','Blr','Chn','Tpt',np.nan]}\n",
    "\n",
    "d1=pd.DataFrame(dict1)"
   ]
  },
  {
   "cell_type": "code",
   "execution_count": 31,
   "id": "d8e93cf8",
   "metadata": {},
   "outputs": [
    {
     "data": {
      "text/plain": [
       "0    13.75\n",
       "1    13.00\n",
       "2    12.00\n",
       "3    10.00\n",
       "4    20.00\n",
       "Name: Age, dtype: float64"
      ]
     },
     "execution_count": 31,
     "metadata": {},
     "output_type": "execute_result"
    }
   ],
   "source": [
    "# we already know we can fill with some values based on specific columns using fillna\n",
    "# d1.fillna(<random_number>)\n",
    "# d1 represents all the columns\n",
    "\n",
    "age_mean=d1['Age'].mean()\n",
    "d1['Age'].fillna(age_mean)"
   ]
  },
  {
   "cell_type": "code",
   "execution_count": 32,
   "id": "b14f827c",
   "metadata": {},
   "outputs": [
    {
     "data": {
      "text/plain": [
       "0    12.5\n",
       "1    13.0\n",
       "2    12.0\n",
       "3    10.0\n",
       "4    20.0\n",
       "Name: Age, dtype: float64"
      ]
     },
     "execution_count": 32,
     "metadata": {},
     "output_type": "execute_result"
    }
   ],
   "source": [
    "age_median=d1['Age'].median()\n",
    "d1['Age'].fillna(age_median)"
   ]
  },
  {
   "cell_type": "code",
   "execution_count": 33,
   "id": "75be34f1",
   "metadata": {},
   "outputs": [
    {
     "data": {
      "text/plain": [
       "0    10.0\n",
       "1    13.0\n",
       "2    12.0\n",
       "3    10.0\n",
       "4    20.0\n",
       "Name: Age, dtype: float64"
      ]
     },
     "execution_count": 33,
     "metadata": {},
     "output_type": "execute_result"
    }
   ],
   "source": [
    "age_mode=d1['Age'].mode()\n",
    "d1['Age'].fillna(age_mode)"
   ]
  },
  {
   "cell_type": "markdown",
   "id": "91ff1c2d",
   "metadata": {},
   "source": [
    "- Fill with rondom value\n",
    "\n",
    "- Fill with random value on specific value\n",
    "\n",
    "- Fill with methods\n",
    "\n",
    "    - bfill\n",
    "    \n",
    "    -backfill\n",
    "    \n",
    "    -pad\n",
    "    \n",
    "    -ffill\n",
    "    \n",
    "- Fill with\n",
    "\n",
    "    - Mean\n",
    "    \n",
    "    - Median\n",
    "    \n",
    "    - Mode"
   ]
  },
  {
   "cell_type": "markdown",
   "id": "e6aa8fce",
   "metadata": {},
   "source": [
    "**Method-5**\n",
    "\n",
    "**KNN imputer**\n",
    "\n",
    "- KNN: K Nearest Neighbours\n",
    "    \n",
    "- K is a hyper parameter means user can choose\n",
    "\n",
    "- It is distance metric:**Euclidian distance**\n",
    "\n",
    "- KNN imputer will take the mean of the neighbour value\n",
    "\n",
    "- The neighbour value can provided by using value=k\n",
    "\n",
    "- It is under the sklearn package\n",
    "\n",
    "- Under sklearn we have Imputer Method\n",
    "\n",
    "- Under Imputer method we have KnnImputer\n",
    "\n",
    "- Applicable only for numerical values"
   ]
  },
  {
   "cell_type": "code",
   "execution_count": 37,
   "id": "a390cab5",
   "metadata": {},
   "outputs": [],
   "source": [
    "from sklearn.impute import KNNImputer"
   ]
  },
  {
   "cell_type": "code",
   "execution_count": 38,
   "id": "10611539",
   "metadata": {},
   "outputs": [],
   "source": [
    "KI=KNNImputer()"
   ]
  },
  {
   "cell_type": "code",
   "execution_count": 40,
   "id": "ead93e82",
   "metadata": {},
   "outputs": [
    {
     "data": {
      "text/plain": [
       "array([[13.75],\n",
       "       [13.  ],\n",
       "       [12.  ],\n",
       "       [10.  ],\n",
       "       [20.  ]])"
      ]
     },
     "execution_count": 40,
     "metadata": {},
     "output_type": "execute_result"
    }
   ],
   "source": [
    "KI.fit_transform(d1[['Age']])"
   ]
  },
  {
   "cell_type": "code",
   "execution_count": null,
   "id": "236af2bb",
   "metadata": {},
   "outputs": [],
   "source": []
  }
 ],
 "metadata": {
  "kernelspec": {
   "display_name": "Python 3 (ipykernel)",
   "language": "python",
   "name": "python3"
  },
  "language_info": {
   "codemirror_mode": {
    "name": "ipython",
    "version": 3
   },
   "file_extension": ".py",
   "mimetype": "text/x-python",
   "name": "python",
   "nbconvert_exporter": "python",
   "pygments_lexer": "ipython3",
   "version": "3.9.13"
  }
 },
 "nbformat": 4,
 "nbformat_minor": 5
}
